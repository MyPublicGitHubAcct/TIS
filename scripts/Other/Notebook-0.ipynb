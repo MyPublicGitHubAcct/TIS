{
    "metadata": {
        "kernelspec": {
            "name": "SQL",
            "display_name": "SQL",
            "language": "sql"
        },
        "language_info": {
            "name": "sql",
            "version": ""
        }
    },
    "nbformat_minor": 2,
    "nbformat": 4,
    "cells": [
        {
            "cell_type": "code",
            "source": [
                "SELECT * FROM [tis].[AppUser] WHERE ID = 6"
            ],
            "metadata": {
                "azdata_cell_guid": "aec2b502-856f-4610-a029-c03da0f2234c"
            },
            "outputs": [
                {
                    "output_type": "display_data",
                    "data": {
                        "text/html": "(1 row affected)"
                    },
                    "metadata": {}
                },
                {
                    "output_type": "display_data",
                    "data": {
                        "text/html": "Total execution time: 00:00:00.006"
                    },
                    "metadata": {}
                },
                {
                    "output_type": "execute_result",
                    "metadata": {},
                    "execution_count": 28,
                    "data": {
                        "application/vnd.dataresource+json": {
                            "schema": {
                                "fields": [
                                    {
                                        "name": "ID"
                                    },
                                    {
                                        "name": "FirstName"
                                    },
                                    {
                                        "name": "LastName"
                                    },
                                    {
                                        "name": "Manager"
                                    },
                                    {
                                        "name": "Logon"
                                    },
                                    {
                                        "name": "Password"
                                    },
                                    {
                                        "name": "Salt"
                                    },
                                    {
                                        "name": "Department"
                                    },
                                    {
                                        "name": "IsManager"
                                    },
                                    {
                                        "name": "IsActive"
                                    },
                                    {
                                        "name": "DateChanged"
                                    }
                                ]
                            },
                            "data": [
                                {
                                    "0": "6",
                                    "1": "Britney",
                                    "2": "Hardiest",
                                    "3": "3",
                                    "4": "hardybx",
                                    "5": "Ñ‚Ã˜~ê”\u0019bw C¦¨™^œ¾'õ+IJ¾Òñ\u0018·\rO–\u001cû¯\u0014m^\r—@ 4ä¿G§ü=‡¾¡Û/~p8êÈ“?×5òk",
                                    "6": "ef025815-f36b-42a5-b03f-c43f4ac661f3",
                                    "7": "3",
                                    "8": "0",
                                    "9": "1",
                                    "10": "2018-12-25 00:00:00.000"
                                }
                            ]
                        },
                        "text/html": "<table><tr><th>ID</th><th>FirstName</th><th>LastName</th><th>Manager</th><th>Logon</th><th>Password</th><th>Salt</th><th>Department</th><th>IsManager</th><th>IsActive</th><th>DateChanged</th></tr><tr><td>6</td><td>Britney</td><td>Hardiest</td><td>3</td><td>hardybx</td><td>Ñ‚Ã˜~ê”\u0019bw C¦¨™^œ¾'õ+IJ¾Òñ\u0018·\rO–\u001cû¯\u0014m^\r—@ 4ä¿G§ü=‡¾¡Û/~p8êÈ“?×5òk</td><td>ef025815-f36b-42a5-b03f-c43f4ac661f3</td><td>3</td><td>0</td><td>1</td><td>2018-12-25 00:00:00.000</td></tr></table>"
                    }
                }
            ],
            "execution_count": 28
        },
        {
            "cell_type": "code",
            "source": [
                "-- Listing all the permissions of database principals\n",
                "\n",
                "SELECT pr.principal_id, pr.name, pr.type_desc,   \n",
                "    pr.authentication_type_desc, pe.state_desc, pe.permission_name  \n",
                "FROM sys.database_principals AS pr  \n",
                "JOIN sys.database_permissions AS pe  \n",
                "    ON pe.grantee_principal_id = pr.principal_id; "
            ],
            "metadata": {
                "azdata_cell_guid": "e42307d0-6380-4467-9550-ef3e55176745"
            },
            "outputs": [
                {
                    "output_type": "display_data",
                    "data": {
                        "text/html": "(177 rows affected)"
                    },
                    "metadata": {}
                },
                {
                    "output_type": "display_data",
                    "data": {
                        "text/html": "Total execution time: 00:00:00.017"
                    },
                    "metadata": {}
                },
                {
                    "output_type": "execute_result",
                    "metadata": {},
                    "execution_count": 29,
                    "data": {
                        "application/vnd.dataresource+json": {
                            "schema": {
                                "fields": [
                                    {
                                        "name": "principal_id"
                                    },
                                    {
                                        "name": "name"
                                    },
                                    {
                                        "name": "type_desc"
                                    },
                                    {
                                        "name": "authentication_type_desc"
                                    },
                                    {
                                        "name": "state_desc"
                                    },
                                    {
                                        "name": "permission_name"
                                    }
                                ]
                            },
                            "data": [
                                {
                                    "0": "0",
                                    "1": "public",
                                    "2": "DATABASE_ROLE",
                                    "3": "NONE",
                                    "4": "GRANT",
                                    "5": "VIEW ANY COLUMN ENCRYPTION KEY DEFINITION"
                                },
                                {
                                    "0": "0",
                                    "1": "public",
                                    "2": "DATABASE_ROLE",
                                    "3": "NONE",
                                    "4": "GRANT",
                                    "5": "VIEW ANY COLUMN MASTER KEY DEFINITION"
                                },
                                {
                                    "0": "1",
                                    "1": "dbo",
                                    "2": "SQL_USER",
                                    "3": "INSTANCE",
                                    "4": "GRANT",
                                    "5": "CONNECT"
                                },
                                {
                                    "0": "0",
                                    "1": "public",
                                    "2": "DATABASE_ROLE",
                                    "3": "NONE",
                                    "4": "GRANT",
                                    "5": "SELECT"
                                },
                                {
                                    "0": "0",
                                    "1": "public",
                                    "2": "DATABASE_ROLE",
                                    "3": "NONE",
                                    "4": "GRANT",
                                    "5": "SELECT"
                                },
                                {
                                    "0": "0",
                                    "1": "public",
                                    "2": "DATABASE_ROLE",
                                    "3": "NONE",
                                    "4": "GRANT",
                                    "5": "SELECT"
                                },
                                {
                                    "0": "0",
                                    "1": "public",
                                    "2": "DATABASE_ROLE",
                                    "3": "NONE",
                                    "4": "GRANT",
                                    "5": "SELECT"
                                },
                                {
                                    "0": "0",
                                    "1": "public",
                                    "2": "DATABASE_ROLE",
                                    "3": "NONE",
                                    "4": "GRANT",
                                    "5": "SELECT"
                                },
                                {
                                    "0": "0",
                                    "1": "public",
                                    "2": "DATABASE_ROLE",
                                    "3": "NONE",
                                    "4": "GRANT",
                                    "5": "SELECT"
                                },
                                {
                                    "0": "0",
                                    "1": "public",
                                    "2": "DATABASE_ROLE",
                                    "3": "NONE",
                                    "4": "GRANT",
                                    "5": "SELECT"
                                },
                                {
                                    "0": "0",
                                    "1": "public",
                                    "2": "DATABASE_ROLE",
                                    "3": "NONE",
                                    "4": "GRANT",
                                    "5": "SELECT"
                                },
                                {
                                    "0": "0",
                                    "1": "public",
                                    "2": "DATABASE_ROLE",
                                    "3": "NONE",
                                    "4": "GRANT",
                                    "5": "SELECT"
                                },
                                {
                                    "0": "0",
                                    "1": "public",
                                    "2": "DATABASE_ROLE",
                                    "3": "NONE",
                                    "4": "GRANT",
                                    "5": "SELECT"
                                },
                                {
                                    "0": "0",
                                    "1": "public",
                                    "2": "DATABASE_ROLE",
                                    "3": "NONE",
                                    "4": "GRANT",
                                    "5": "SELECT"
                                },
                                {
                                    "0": "0",
                                    "1": "public",
                                    "2": "DATABASE_ROLE",
                                    "3": "NONE",
                                    "4": "GRANT",
                                    "5": "SELECT"
                                },
                                {
                                    "0": "0",
                                    "1": "public",
                                    "2": "DATABASE_ROLE",
                                    "3": "NONE",
                                    "4": "GRANT",
                                    "5": "SELECT"
                                },
                                {
                                    "0": "0",
                                    "1": "public",
                                    "2": "DATABASE_ROLE",
                                    "3": "NONE",
                                    "4": "GRANT",
                                    "5": "SELECT"
                                },
                                {
                                    "0": "0",
                                    "1": "public",
                                    "2": "DATABASE_ROLE",
                                    "3": "NONE",
                                    "4": "GRANT",
                                    "5": "SELECT"
                                },
                                {
                                    "0": "0",
                                    "1": "public",
                                    "2": "DATABASE_ROLE",
                                    "3": "NONE",
                                    "4": "GRANT",
                                    "5": "SELECT"
                                },
                                {
                                    "0": "0",
                                    "1": "public",
                                    "2": "DATABASE_ROLE",
                                    "3": "NONE",
                                    "4": "GRANT",
                                    "5": "SELECT"
                                },
                                {
                                    "0": "0",
                                    "1": "public",
                                    "2": "DATABASE_ROLE",
                                    "3": "NONE",
                                    "4": "GRANT",
                                    "5": "SELECT"
                                },
                                {
                                    "0": "0",
                                    "1": "public",
                                    "2": "DATABASE_ROLE",
                                    "3": "NONE",
                                    "4": "GRANT",
                                    "5": "SELECT"
                                },
                                {
                                    "0": "0",
                                    "1": "public",
                                    "2": "DATABASE_ROLE",
                                    "3": "NONE",
                                    "4": "GRANT",
                                    "5": "SELECT"
                                },
                                {
                                    "0": "0",
                                    "1": "public",
                                    "2": "DATABASE_ROLE",
                                    "3": "NONE",
                                    "4": "GRANT",
                                    "5": "SELECT"
                                },
                                {
                                    "0": "0",
                                    "1": "public",
                                    "2": "DATABASE_ROLE",
                                    "3": "NONE",
                                    "4": "GRANT",
                                    "5": "SELECT"
                                },
                                {
                                    "0": "0",
                                    "1": "public",
                                    "2": "DATABASE_ROLE",
                                    "3": "NONE",
                                    "4": "GRANT",
                                    "5": "SELECT"
                                },
                                {
                                    "0": "0",
                                    "1": "public",
                                    "2": "DATABASE_ROLE",
                                    "3": "NONE",
                                    "4": "GRANT",
                                    "5": "SELECT"
                                },
                                {
                                    "0": "0",
                                    "1": "public",
                                    "2": "DATABASE_ROLE",
                                    "3": "NONE",
                                    "4": "GRANT",
                                    "5": "SELECT"
                                },
                                {
                                    "0": "0",
                                    "1": "public",
                                    "2": "DATABASE_ROLE",
                                    "3": "NONE",
                                    "4": "GRANT",
                                    "5": "SELECT"
                                },
                                {
                                    "0": "0",
                                    "1": "public",
                                    "2": "DATABASE_ROLE",
                                    "3": "NONE",
                                    "4": "GRANT",
                                    "5": "SELECT"
                                },
                                {
                                    "0": "0",
                                    "1": "public",
                                    "2": "DATABASE_ROLE",
                                    "3": "NONE",
                                    "4": "GRANT",
                                    "5": "SELECT"
                                },
                                {
                                    "0": "0",
                                    "1": "public",
                                    "2": "DATABASE_ROLE",
                                    "3": "NONE",
                                    "4": "GRANT",
                                    "5": "SELECT"
                                },
                                {
                                    "0": "0",
                                    "1": "public",
                                    "2": "DATABASE_ROLE",
                                    "3": "NONE",
                                    "4": "GRANT",
                                    "5": "SELECT"
                                },
                                {
                                    "0": "0",
                                    "1": "public",
                                    "2": "DATABASE_ROLE",
                                    "3": "NONE",
                                    "4": "GRANT",
                                    "5": "SELECT"
                                },
                                {
                                    "0": "0",
                                    "1": "public",
                                    "2": "DATABASE_ROLE",
                                    "3": "NONE",
                                    "4": "GRANT",
                                    "5": "SELECT"
                                },
                                {
                                    "0": "0",
                                    "1": "public",
                                    "2": "DATABASE_ROLE",
                                    "3": "NONE",
                                    "4": "GRANT",
                                    "5": "SELECT"
                                },
                                {
                                    "0": "0",
                                    "1": "public",
                                    "2": "DATABASE_ROLE",
                                    "3": "NONE",
                                    "4": "GRANT",
                                    "5": "SELECT"
                                },
                                {
                                    "0": "0",
                                    "1": "public",
                                    "2": "DATABASE_ROLE",
                                    "3": "NONE",
                                    "4": "GRANT",
                                    "5": "SELECT"
                                },
                                {
                                    "0": "0",
                                    "1": "public",
                                    "2": "DATABASE_ROLE",
                                    "3": "NONE",
                                    "4": "GRANT",
                                    "5": "SELECT"
                                },
                                {
                                    "0": "0",
                                    "1": "public",
                                    "2": "DATABASE_ROLE",
                                    "3": "NONE",
                                    "4": "GRANT",
                                    "5": "SELECT"
                                },
                                {
                                    "0": "0",
                                    "1": "public",
                                    "2": "DATABASE_ROLE",
                                    "3": "NONE",
                                    "4": "GRANT",
                                    "5": "SELECT"
                                },
                                {
                                    "0": "0",
                                    "1": "public",
                                    "2": "DATABASE_ROLE",
                                    "3": "NONE",
                                    "4": "GRANT",
                                    "5": "SELECT"
                                },
                                {
                                    "0": "0",
                                    "1": "public",
                                    "2": "DATABASE_ROLE",
                                    "3": "NONE",
                                    "4": "GRANT",
                                    "5": "SELECT"
                                },
                                {
                                    "0": "0",
                                    "1": "public",
                                    "2": "DATABASE_ROLE",
                                    "3": "NONE",
                                    "4": "GRANT",
                                    "5": "SELECT"
                                },
                                {
                                    "0": "0",
                                    "1": "public",
                                    "2": "DATABASE_ROLE",
                                    "3": "NONE",
                                    "4": "GRANT",
                                    "5": "SELECT"
                                },
                                {
                                    "0": "0",
                                    "1": "public",
                                    "2": "DATABASE_ROLE",
                                    "3": "NONE",
                                    "4": "GRANT",
                                    "5": "SELECT"
                                },
                                {
                                    "0": "0",
                                    "1": "public",
                                    "2": "DATABASE_ROLE",
                                    "3": "NONE",
                                    "4": "GRANT",
                                    "5": "SELECT"
                                },
                                {
                                    "0": "0",
                                    "1": "public",
                                    "2": "DATABASE_ROLE",
                                    "3": "NONE",
                                    "4": "GRANT",
                                    "5": "SELECT"
                                },
                                {
                                    "0": "0",
                                    "1": "public",
                                    "2": "DATABASE_ROLE",
                                    "3": "NONE",
                                    "4": "GRANT",
                                    "5": "SELECT"
                                },
                                {
                                    "0": "0",
                                    "1": "public",
                                    "2": "DATABASE_ROLE",
                                    "3": "NONE",
                                    "4": "GRANT",
                                    "5": "SELECT"
                                },
                                {
                                    "0": "0",
                                    "1": "public",
                                    "2": "DATABASE_ROLE",
                                    "3": "NONE",
                                    "4": "GRANT",
                                    "5": "SELECT"
                                },
                                {
                                    "0": "0",
                                    "1": "public",
                                    "2": "DATABASE_ROLE",
                                    "3": "NONE",
                                    "4": "GRANT",
                                    "5": "SELECT"
                                },
                                {
                                    "0": "0",
                                    "1": "public",
                                    "2": "DATABASE_ROLE",
                                    "3": "NONE",
                                    "4": "GRANT",
                                    "5": "SELECT"
                                },
                                {
                                    "0": "0",
                                    "1": "public",
                                    "2": "DATABASE_ROLE",
                                    "3": "NONE",
                                    "4": "GRANT",
                                    "5": "SELECT"
                                },
                                {
                                    "0": "0",
                                    "1": "public",
                                    "2": "DATABASE_ROLE",
                                    "3": "NONE",
                                    "4": "GRANT",
                                    "5": "SELECT"
                                },
                                {
                                    "0": "0",
                                    "1": "public",
                                    "2": "DATABASE_ROLE",
                                    "3": "NONE",
                                    "4": "GRANT",
                                    "5": "SELECT"
                                },
                                {
                                    "0": "0",
                                    "1": "public",
                                    "2": "DATABASE_ROLE",
                                    "3": "NONE",
                                    "4": "GRANT",
                                    "5": "SELECT"
                                },
                                {
                                    "0": "0",
                                    "1": "public",
                                    "2": "DATABASE_ROLE",
                                    "3": "NONE",
                                    "4": "GRANT",
                                    "5": "SELECT"
                                },
                                {
                                    "0": "0",
                                    "1": "public",
                                    "2": "DATABASE_ROLE",
                                    "3": "NONE",
                                    "4": "GRANT",
                                    "5": "SELECT"
                                },
                                {
                                    "0": "0",
                                    "1": "public",
                                    "2": "DATABASE_ROLE",
                                    "3": "NONE",
                                    "4": "GRANT",
                                    "5": "SELECT"
                                },
                                {
                                    "0": "0",
                                    "1": "public",
                                    "2": "DATABASE_ROLE",
                                    "3": "NONE",
                                    "4": "GRANT",
                                    "5": "SELECT"
                                },
                                {
                                    "0": "0",
                                    "1": "public",
                                    "2": "DATABASE_ROLE",
                                    "3": "NONE",
                                    "4": "GRANT",
                                    "5": "SELECT"
                                },
                                {
                                    "0": "0",
                                    "1": "public",
                                    "2": "DATABASE_ROLE",
                                    "3": "NONE",
                                    "4": "GRANT",
                                    "5": "SELECT"
                                },
                                {
                                    "0": "0",
                                    "1": "public",
                                    "2": "DATABASE_ROLE",
                                    "3": "NONE",
                                    "4": "GRANT",
                                    "5": "SELECT"
                                },
                                {
                                    "0": "0",
                                    "1": "public",
                                    "2": "DATABASE_ROLE",
                                    "3": "NONE",
                                    "4": "GRANT",
                                    "5": "SELECT"
                                },
                                {
                                    "0": "0",
                                    "1": "public",
                                    "2": "DATABASE_ROLE",
                                    "3": "NONE",
                                    "4": "GRANT",
                                    "5": "SELECT"
                                },
                                {
                                    "0": "0",
                                    "1": "public",
                                    "2": "DATABASE_ROLE",
                                    "3": "NONE",
                                    "4": "GRANT",
                                    "5": "SELECT"
                                },
                                {
                                    "0": "0",
                                    "1": "public",
                                    "2": "DATABASE_ROLE",
                                    "3": "NONE",
                                    "4": "GRANT",
                                    "5": "SELECT"
                                },
                                {
                                    "0": "0",
                                    "1": "public",
                                    "2": "DATABASE_ROLE",
                                    "3": "NONE",
                                    "4": "GRANT",
                                    "5": "SELECT"
                                },
                                {
                                    "0": "0",
                                    "1": "public",
                                    "2": "DATABASE_ROLE",
                                    "3": "NONE",
                                    "4": "GRANT",
                                    "5": "SELECT"
                                },
                                {
                                    "0": "0",
                                    "1": "public",
                                    "2": "DATABASE_ROLE",
                                    "3": "NONE",
                                    "4": "GRANT",
                                    "5": "SELECT"
                                },
                                {
                                    "0": "0",
                                    "1": "public",
                                    "2": "DATABASE_ROLE",
                                    "3": "NONE",
                                    "4": "GRANT",
                                    "5": "SELECT"
                                },
                                {
                                    "0": "0",
                                    "1": "public",
                                    "2": "DATABASE_ROLE",
                                    "3": "NONE",
                                    "4": "GRANT",
                                    "5": "SELECT"
                                },
                                {
                                    "0": "0",
                                    "1": "public",
                                    "2": "DATABASE_ROLE",
                                    "3": "NONE",
                                    "4": "GRANT",
                                    "5": "SELECT"
                                },
                                {
                                    "0": "0",
                                    "1": "public",
                                    "2": "DATABASE_ROLE",
                                    "3": "NONE",
                                    "4": "GRANT",
                                    "5": "SELECT"
                                },
                                {
                                    "0": "0",
                                    "1": "public",
                                    "2": "DATABASE_ROLE",
                                    "3": "NONE",
                                    "4": "GRANT",
                                    "5": "SELECT"
                                },
                                {
                                    "0": "0",
                                    "1": "public",
                                    "2": "DATABASE_ROLE",
                                    "3": "NONE",
                                    "4": "GRANT",
                                    "5": "SELECT"
                                },
                                {
                                    "0": "0",
                                    "1": "public",
                                    "2": "DATABASE_ROLE",
                                    "3": "NONE",
                                    "4": "GRANT",
                                    "5": "SELECT"
                                },
                                {
                                    "0": "0",
                                    "1": "public",
                                    "2": "DATABASE_ROLE",
                                    "3": "NONE",
                                    "4": "GRANT",
                                    "5": "SELECT"
                                },
                                {
                                    "0": "0",
                                    "1": "public",
                                    "2": "DATABASE_ROLE",
                                    "3": "NONE",
                                    "4": "GRANT",
                                    "5": "SELECT"
                                },
                                {
                                    "0": "0",
                                    "1": "public",
                                    "2": "DATABASE_ROLE",
                                    "3": "NONE",
                                    "4": "GRANT",
                                    "5": "SELECT"
                                },
                                {
                                    "0": "0",
                                    "1": "public",
                                    "2": "DATABASE_ROLE",
                                    "3": "NONE",
                                    "4": "GRANT",
                                    "5": "SELECT"
                                },
                                {
                                    "0": "0",
                                    "1": "public",
                                    "2": "DATABASE_ROLE",
                                    "3": "NONE",
                                    "4": "GRANT",
                                    "5": "SELECT"
                                },
                                {
                                    "0": "0",
                                    "1": "public",
                                    "2": "DATABASE_ROLE",
                                    "3": "NONE",
                                    "4": "GRANT",
                                    "5": "SELECT"
                                },
                                {
                                    "0": "0",
                                    "1": "public",
                                    "2": "DATABASE_ROLE",
                                    "3": "NONE",
                                    "4": "GRANT",
                                    "5": "SELECT"
                                },
                                {
                                    "0": "0",
                                    "1": "public",
                                    "2": "DATABASE_ROLE",
                                    "3": "NONE",
                                    "4": "GRANT",
                                    "5": "SELECT"
                                },
                                {
                                    "0": "0",
                                    "1": "public",
                                    "2": "DATABASE_ROLE",
                                    "3": "NONE",
                                    "4": "GRANT",
                                    "5": "SELECT"
                                },
                                {
                                    "0": "0",
                                    "1": "public",
                                    "2": "DATABASE_ROLE",
                                    "3": "NONE",
                                    "4": "GRANT",
                                    "5": "SELECT"
                                },
                                {
                                    "0": "0",
                                    "1": "public",
                                    "2": "DATABASE_ROLE",
                                    "3": "NONE",
                                    "4": "GRANT",
                                    "5": "SELECT"
                                },
                                {
                                    "0": "0",
                                    "1": "public",
                                    "2": "DATABASE_ROLE",
                                    "3": "NONE",
                                    "4": "GRANT",
                                    "5": "SELECT"
                                },
                                {
                                    "0": "0",
                                    "1": "public",
                                    "2": "DATABASE_ROLE",
                                    "3": "NONE",
                                    "4": "GRANT",
                                    "5": "SELECT"
                                },
                                {
                                    "0": "0",
                                    "1": "public",
                                    "2": "DATABASE_ROLE",
                                    "3": "NONE",
                                    "4": "GRANT",
                                    "5": "SELECT"
                                },
                                {
                                    "0": "0",
                                    "1": "public",
                                    "2": "DATABASE_ROLE",
                                    "3": "NONE",
                                    "4": "GRANT",
                                    "5": "SELECT"
                                },
                                {
                                    "0": "0",
                                    "1": "public",
                                    "2": "DATABASE_ROLE",
                                    "3": "NONE",
                                    "4": "GRANT",
                                    "5": "SELECT"
                                },
                                {
                                    "0": "0",
                                    "1": "public",
                                    "2": "DATABASE_ROLE",
                                    "3": "NONE",
                                    "4": "GRANT",
                                    "5": "SELECT"
                                },
                                {
                                    "0": "0",
                                    "1": "public",
                                    "2": "DATABASE_ROLE",
                                    "3": "NONE",
                                    "4": "GRANT",
                                    "5": "SELECT"
                                },
                                {
                                    "0": "0",
                                    "1": "public",
                                    "2": "DATABASE_ROLE",
                                    "3": "NONE",
                                    "4": "GRANT",
                                    "5": "SELECT"
                                },
                                {
                                    "0": "0",
                                    "1": "public",
                                    "2": "DATABASE_ROLE",
                                    "3": "NONE",
                                    "4": "GRANT",
                                    "5": "SELECT"
                                },
                                {
                                    "0": "0",
                                    "1": "public",
                                    "2": "DATABASE_ROLE",
                                    "3": "NONE",
                                    "4": "GRANT",
                                    "5": "SELECT"
                                },
                                {
                                    "0": "0",
                                    "1": "public",
                                    "2": "DATABASE_ROLE",
                                    "3": "NONE",
                                    "4": "GRANT",
                                    "5": "SELECT"
                                },
                                {
                                    "0": "0",
                                    "1": "public",
                                    "2": "DATABASE_ROLE",
                                    "3": "NONE",
                                    "4": "GRANT",
                                    "5": "SELECT"
                                },
                                {
                                    "0": "0",
                                    "1": "public",
                                    "2": "DATABASE_ROLE",
                                    "3": "NONE",
                                    "4": "GRANT",
                                    "5": "SELECT"
                                },
                                {
                                    "0": "0",
                                    "1": "public",
                                    "2": "DATABASE_ROLE",
                                    "3": "NONE",
                                    "4": "GRANT",
                                    "5": "SELECT"
                                },
                                {
                                    "0": "0",
                                    "1": "public",
                                    "2": "DATABASE_ROLE",
                                    "3": "NONE",
                                    "4": "GRANT",
                                    "5": "SELECT"
                                },
                                {
                                    "0": "0",
                                    "1": "public",
                                    "2": "DATABASE_ROLE",
                                    "3": "NONE",
                                    "4": "GRANT",
                                    "5": "SELECT"
                                },
                                {
                                    "0": "0",
                                    "1": "public",
                                    "2": "DATABASE_ROLE",
                                    "3": "NONE",
                                    "4": "GRANT",
                                    "5": "SELECT"
                                },
                                {
                                    "0": "0",
                                    "1": "public",
                                    "2": "DATABASE_ROLE",
                                    "3": "NONE",
                                    "4": "GRANT",
                                    "5": "SELECT"
                                },
                                {
                                    "0": "0",
                                    "1": "public",
                                    "2": "DATABASE_ROLE",
                                    "3": "NONE",
                                    "4": "GRANT",
                                    "5": "SELECT"
                                },
                                {
                                    "0": "0",
                                    "1": "public",
                                    "2": "DATABASE_ROLE",
                                    "3": "NONE",
                                    "4": "GRANT",
                                    "5": "SELECT"
                                },
                                {
                                    "0": "0",
                                    "1": "public",
                                    "2": "DATABASE_ROLE",
                                    "3": "NONE",
                                    "4": "GRANT",
                                    "5": "SELECT"
                                },
                                {
                                    "0": "0",
                                    "1": "public",
                                    "2": "DATABASE_ROLE",
                                    "3": "NONE",
                                    "4": "GRANT",
                                    "5": "SELECT"
                                },
                                {
                                    "0": "0",
                                    "1": "public",
                                    "2": "DATABASE_ROLE",
                                    "3": "NONE",
                                    "4": "GRANT",
                                    "5": "SELECT"
                                },
                                {
                                    "0": "0",
                                    "1": "public",
                                    "2": "DATABASE_ROLE",
                                    "3": "NONE",
                                    "4": "GRANT",
                                    "5": "SELECT"
                                },
                                {
                                    "0": "0",
                                    "1": "public",
                                    "2": "DATABASE_ROLE",
                                    "3": "NONE",
                                    "4": "GRANT",
                                    "5": "SELECT"
                                },
                                {
                                    "0": "0",
                                    "1": "public",
                                    "2": "DATABASE_ROLE",
                                    "3": "NONE",
                                    "4": "GRANT",
                                    "5": "SELECT"
                                },
                                {
                                    "0": "0",
                                    "1": "public",
                                    "2": "DATABASE_ROLE",
                                    "3": "NONE",
                                    "4": "GRANT",
                                    "5": "SELECT"
                                },
                                {
                                    "0": "0",
                                    "1": "public",
                                    "2": "DATABASE_ROLE",
                                    "3": "NONE",
                                    "4": "GRANT",
                                    "5": "SELECT"
                                },
                                {
                                    "0": "0",
                                    "1": "public",
                                    "2": "DATABASE_ROLE",
                                    "3": "NONE",
                                    "4": "GRANT",
                                    "5": "SELECT"
                                },
                                {
                                    "0": "0",
                                    "1": "public",
                                    "2": "DATABASE_ROLE",
                                    "3": "NONE",
                                    "4": "GRANT",
                                    "5": "SELECT"
                                },
                                {
                                    "0": "0",
                                    "1": "public",
                                    "2": "DATABASE_ROLE",
                                    "3": "NONE",
                                    "4": "GRANT",
                                    "5": "SELECT"
                                },
                                {
                                    "0": "0",
                                    "1": "public",
                                    "2": "DATABASE_ROLE",
                                    "3": "NONE",
                                    "4": "GRANT",
                                    "5": "SELECT"
                                },
                                {
                                    "0": "0",
                                    "1": "public",
                                    "2": "DATABASE_ROLE",
                                    "3": "NONE",
                                    "4": "GRANT",
                                    "5": "SELECT"
                                },
                                {
                                    "0": "0",
                                    "1": "public",
                                    "2": "DATABASE_ROLE",
                                    "3": "NONE",
                                    "4": "GRANT",
                                    "5": "SELECT"
                                },
                                {
                                    "0": "0",
                                    "1": "public",
                                    "2": "DATABASE_ROLE",
                                    "3": "NONE",
                                    "4": "GRANT",
                                    "5": "SELECT"
                                },
                                {
                                    "0": "0",
                                    "1": "public",
                                    "2": "DATABASE_ROLE",
                                    "3": "NONE",
                                    "4": "GRANT",
                                    "5": "SELECT"
                                },
                                {
                                    "0": "0",
                                    "1": "public",
                                    "2": "DATABASE_ROLE",
                                    "3": "NONE",
                                    "4": "GRANT",
                                    "5": "SELECT"
                                },
                                {
                                    "0": "0",
                                    "1": "public",
                                    "2": "DATABASE_ROLE",
                                    "3": "NONE",
                                    "4": "GRANT",
                                    "5": "SELECT"
                                },
                                {
                                    "0": "0",
                                    "1": "public",
                                    "2": "DATABASE_ROLE",
                                    "3": "NONE",
                                    "4": "GRANT",
                                    "5": "SELECT"
                                },
                                {
                                    "0": "0",
                                    "1": "public",
                                    "2": "DATABASE_ROLE",
                                    "3": "NONE",
                                    "4": "GRANT",
                                    "5": "SELECT"
                                },
                                {
                                    "0": "0",
                                    "1": "public",
                                    "2": "DATABASE_ROLE",
                                    "3": "NONE",
                                    "4": "GRANT",
                                    "5": "SELECT"
                                },
                                {
                                    "0": "0",
                                    "1": "public",
                                    "2": "DATABASE_ROLE",
                                    "3": "NONE",
                                    "4": "GRANT",
                                    "5": "SELECT"
                                },
                                {
                                    "0": "0",
                                    "1": "public",
                                    "2": "DATABASE_ROLE",
                                    "3": "NONE",
                                    "4": "GRANT",
                                    "5": "SELECT"
                                },
                                {
                                    "0": "0",
                                    "1": "public",
                                    "2": "DATABASE_ROLE",
                                    "3": "NONE",
                                    "4": "GRANT",
                                    "5": "SELECT"
                                },
                                {
                                    "0": "0",
                                    "1": "public",
                                    "2": "DATABASE_ROLE",
                                    "3": "NONE",
                                    "4": "GRANT",
                                    "5": "SELECT"
                                },
                                {
                                    "0": "0",
                                    "1": "public",
                                    "2": "DATABASE_ROLE",
                                    "3": "NONE",
                                    "4": "GRANT",
                                    "5": "SELECT"
                                },
                                {
                                    "0": "0",
                                    "1": "public",
                                    "2": "DATABASE_ROLE",
                                    "3": "NONE",
                                    "4": "GRANT",
                                    "5": "SELECT"
                                },
                                {
                                    "0": "0",
                                    "1": "public",
                                    "2": "DATABASE_ROLE",
                                    "3": "NONE",
                                    "4": "GRANT",
                                    "5": "SELECT"
                                },
                                {
                                    "0": "0",
                                    "1": "public",
                                    "2": "DATABASE_ROLE",
                                    "3": "NONE",
                                    "4": "GRANT",
                                    "5": "SELECT"
                                },
                                {
                                    "0": "0",
                                    "1": "public",
                                    "2": "DATABASE_ROLE",
                                    "3": "NONE",
                                    "4": "GRANT",
                                    "5": "SELECT"
                                },
                                {
                                    "0": "0",
                                    "1": "public",
                                    "2": "DATABASE_ROLE",
                                    "3": "NONE",
                                    "4": "GRANT",
                                    "5": "SELECT"
                                },
                                {
                                    "0": "0",
                                    "1": "public",
                                    "2": "DATABASE_ROLE",
                                    "3": "NONE",
                                    "4": "GRANT",
                                    "5": "SELECT"
                                },
                                {
                                    "0": "0",
                                    "1": "public",
                                    "2": "DATABASE_ROLE",
                                    "3": "NONE",
                                    "4": "GRANT",
                                    "5": "SELECT"
                                },
                                {
                                    "0": "0",
                                    "1": "public",
                                    "2": "DATABASE_ROLE",
                                    "3": "NONE",
                                    "4": "GRANT",
                                    "5": "SELECT"
                                },
                                {
                                    "0": "0",
                                    "1": "public",
                                    "2": "DATABASE_ROLE",
                                    "3": "NONE",
                                    "4": "GRANT",
                                    "5": "SELECT"
                                },
                                {
                                    "0": "0",
                                    "1": "public",
                                    "2": "DATABASE_ROLE",
                                    "3": "NONE",
                                    "4": "GRANT",
                                    "5": "SELECT"
                                },
                                {
                                    "0": "0",
                                    "1": "public",
                                    "2": "DATABASE_ROLE",
                                    "3": "NONE",
                                    "4": "GRANT",
                                    "5": "SELECT"
                                },
                                {
                                    "0": "0",
                                    "1": "public",
                                    "2": "DATABASE_ROLE",
                                    "3": "NONE",
                                    "4": "GRANT",
                                    "5": "SELECT"
                                },
                                {
                                    "0": "0",
                                    "1": "public",
                                    "2": "DATABASE_ROLE",
                                    "3": "NONE",
                                    "4": "GRANT",
                                    "5": "SELECT"
                                },
                                {
                                    "0": "0",
                                    "1": "public",
                                    "2": "DATABASE_ROLE",
                                    "3": "NONE",
                                    "4": "GRANT",
                                    "5": "SELECT"
                                },
                                {
                                    "0": "0",
                                    "1": "public",
                                    "2": "DATABASE_ROLE",
                                    "3": "NONE",
                                    "4": "GRANT",
                                    "5": "SELECT"
                                },
                                {
                                    "0": "0",
                                    "1": "public",
                                    "2": "DATABASE_ROLE",
                                    "3": "NONE",
                                    "4": "GRANT",
                                    "5": "SELECT"
                                },
                                {
                                    "0": "0",
                                    "1": "public",
                                    "2": "DATABASE_ROLE",
                                    "3": "NONE",
                                    "4": "GRANT",
                                    "5": "SELECT"
                                },
                                {
                                    "0": "0",
                                    "1": "public",
                                    "2": "DATABASE_ROLE",
                                    "3": "NONE",
                                    "4": "GRANT",
                                    "5": "SELECT"
                                },
                                {
                                    "0": "0",
                                    "1": "public",
                                    "2": "DATABASE_ROLE",
                                    "3": "NONE",
                                    "4": "GRANT",
                                    "5": "SELECT"
                                },
                                {
                                    "0": "0",
                                    "1": "public",
                                    "2": "DATABASE_ROLE",
                                    "3": "NONE",
                                    "4": "GRANT",
                                    "5": "SELECT"
                                },
                                {
                                    "0": "0",
                                    "1": "public",
                                    "2": "DATABASE_ROLE",
                                    "3": "NONE",
                                    "4": "GRANT",
                                    "5": "SELECT"
                                },
                                {
                                    "0": "0",
                                    "1": "public",
                                    "2": "DATABASE_ROLE",
                                    "3": "NONE",
                                    "4": "GRANT",
                                    "5": "SELECT"
                                },
                                {
                                    "0": "0",
                                    "1": "public",
                                    "2": "DATABASE_ROLE",
                                    "3": "NONE",
                                    "4": "GRANT",
                                    "5": "SELECT"
                                },
                                {
                                    "0": "0",
                                    "1": "public",
                                    "2": "DATABASE_ROLE",
                                    "3": "NONE",
                                    "4": "GRANT",
                                    "5": "SELECT"
                                },
                                {
                                    "0": "0",
                                    "1": "public",
                                    "2": "DATABASE_ROLE",
                                    "3": "NONE",
                                    "4": "GRANT",
                                    "5": "SELECT"
                                },
                                {
                                    "0": "0",
                                    "1": "public",
                                    "2": "DATABASE_ROLE",
                                    "3": "NONE",
                                    "4": "GRANT",
                                    "5": "SELECT"
                                },
                                {
                                    "0": "0",
                                    "1": "public",
                                    "2": "DATABASE_ROLE",
                                    "3": "NONE",
                                    "4": "GRANT",
                                    "5": "SELECT"
                                },
                                {
                                    "0": "0",
                                    "1": "public",
                                    "2": "DATABASE_ROLE",
                                    "3": "NONE",
                                    "4": "GRANT",
                                    "5": "SELECT"
                                },
                                {
                                    "0": "0",
                                    "1": "public",
                                    "2": "DATABASE_ROLE",
                                    "3": "NONE",
                                    "4": "GRANT",
                                    "5": "SELECT"
                                },
                                {
                                    "0": "0",
                                    "1": "public",
                                    "2": "DATABASE_ROLE",
                                    "3": "NONE",
                                    "4": "GRANT",
                                    "5": "SELECT"
                                },
                                {
                                    "0": "0",
                                    "1": "public",
                                    "2": "DATABASE_ROLE",
                                    "3": "NONE",
                                    "4": "GRANT",
                                    "5": "SELECT"
                                },
                                {
                                    "0": "0",
                                    "1": "public",
                                    "2": "DATABASE_ROLE",
                                    "3": "NONE",
                                    "4": "GRANT",
                                    "5": "SELECT"
                                },
                                {
                                    "0": "0",
                                    "1": "public",
                                    "2": "DATABASE_ROLE",
                                    "3": "NONE",
                                    "4": "GRANT",
                                    "5": "SELECT"
                                },
                                {
                                    "0": "0",
                                    "1": "public",
                                    "2": "DATABASE_ROLE",
                                    "3": "NONE",
                                    "4": "GRANT",
                                    "5": "SELECT"
                                },
                                {
                                    "0": "0",
                                    "1": "public",
                                    "2": "DATABASE_ROLE",
                                    "3": "NONE",
                                    "4": "GRANT",
                                    "5": "SELECT"
                                },
                                {
                                    "0": "0",
                                    "1": "public",
                                    "2": "DATABASE_ROLE",
                                    "3": "NONE",
                                    "4": "GRANT",
                                    "5": "SELECT"
                                },
                                {
                                    "0": "0",
                                    "1": "public",
                                    "2": "DATABASE_ROLE",
                                    "3": "NONE",
                                    "4": "GRANT",
                                    "5": "SELECT"
                                },
                                {
                                    "0": "0",
                                    "1": "public",
                                    "2": "DATABASE_ROLE",
                                    "3": "NONE",
                                    "4": "GRANT",
                                    "5": "SELECT"
                                },
                                {
                                    "0": "0",
                                    "1": "public",
                                    "2": "DATABASE_ROLE",
                                    "3": "NONE",
                                    "4": "GRANT",
                                    "5": "SELECT"
                                },
                                {
                                    "0": "0",
                                    "1": "public",
                                    "2": "DATABASE_ROLE",
                                    "3": "NONE",
                                    "4": "GRANT",
                                    "5": "SELECT"
                                },
                                {
                                    "0": "0",
                                    "1": "public",
                                    "2": "DATABASE_ROLE",
                                    "3": "NONE",
                                    "4": "GRANT",
                                    "5": "SELECT"
                                },
                                {
                                    "0": "0",
                                    "1": "public",
                                    "2": "DATABASE_ROLE",
                                    "3": "NONE",
                                    "4": "GRANT",
                                    "5": "SELECT"
                                }
                            ]
                        },
                        "text/html": "<table><tr><th>principal_id</th><th>name</th><th>type_desc</th><th>authentication_type_desc</th><th>state_desc</th><th>permission_name</th></tr><tr><td>0</td><td>public</td><td>DATABASE_ROLE</td><td>NONE</td><td>GRANT</td><td>VIEW ANY COLUMN ENCRYPTION KEY DEFINITION</td></tr><tr><td>0</td><td>public</td><td>DATABASE_ROLE</td><td>NONE</td><td>GRANT</td><td>VIEW ANY COLUMN MASTER KEY DEFINITION</td></tr><tr><td>1</td><td>dbo</td><td>SQL_USER</td><td>INSTANCE</td><td>GRANT</td><td>CONNECT</td></tr><tr><td>0</td><td>public</td><td>DATABASE_ROLE</td><td>NONE</td><td>GRANT</td><td>SELECT</td></tr><tr><td>0</td><td>public</td><td>DATABASE_ROLE</td><td>NONE</td><td>GRANT</td><td>SELECT</td></tr><tr><td>0</td><td>public</td><td>DATABASE_ROLE</td><td>NONE</td><td>GRANT</td><td>SELECT</td></tr><tr><td>0</td><td>public</td><td>DATABASE_ROLE</td><td>NONE</td><td>GRANT</td><td>SELECT</td></tr><tr><td>0</td><td>public</td><td>DATABASE_ROLE</td><td>NONE</td><td>GRANT</td><td>SELECT</td></tr><tr><td>0</td><td>public</td><td>DATABASE_ROLE</td><td>NONE</td><td>GRANT</td><td>SELECT</td></tr><tr><td>0</td><td>public</td><td>DATABASE_ROLE</td><td>NONE</td><td>GRANT</td><td>SELECT</td></tr><tr><td>0</td><td>public</td><td>DATABASE_ROLE</td><td>NONE</td><td>GRANT</td><td>SELECT</td></tr><tr><td>0</td><td>public</td><td>DATABASE_ROLE</td><td>NONE</td><td>GRANT</td><td>SELECT</td></tr><tr><td>0</td><td>public</td><td>DATABASE_ROLE</td><td>NONE</td><td>GRANT</td><td>SELECT</td></tr><tr><td>0</td><td>public</td><td>DATABASE_ROLE</td><td>NONE</td><td>GRANT</td><td>SELECT</td></tr><tr><td>0</td><td>public</td><td>DATABASE_ROLE</td><td>NONE</td><td>GRANT</td><td>SELECT</td></tr><tr><td>0</td><td>public</td><td>DATABASE_ROLE</td><td>NONE</td><td>GRANT</td><td>SELECT</td></tr><tr><td>0</td><td>public</td><td>DATABASE_ROLE</td><td>NONE</td><td>GRANT</td><td>SELECT</td></tr><tr><td>0</td><td>public</td><td>DATABASE_ROLE</td><td>NONE</td><td>GRANT</td><td>SELECT</td></tr><tr><td>0</td><td>public</td><td>DATABASE_ROLE</td><td>NONE</td><td>GRANT</td><td>SELECT</td></tr><tr><td>0</td><td>public</td><td>DATABASE_ROLE</td><td>NONE</td><td>GRANT</td><td>SELECT</td></tr><tr><td>0</td><td>public</td><td>DATABASE_ROLE</td><td>NONE</td><td>GRANT</td><td>SELECT</td></tr><tr><td>0</td><td>public</td><td>DATABASE_ROLE</td><td>NONE</td><td>GRANT</td><td>SELECT</td></tr><tr><td>0</td><td>public</td><td>DATABASE_ROLE</td><td>NONE</td><td>GRANT</td><td>SELECT</td></tr><tr><td>0</td><td>public</td><td>DATABASE_ROLE</td><td>NONE</td><td>GRANT</td><td>SELECT</td></tr><tr><td>0</td><td>public</td><td>DATABASE_ROLE</td><td>NONE</td><td>GRANT</td><td>SELECT</td></tr><tr><td>0</td><td>public</td><td>DATABASE_ROLE</td><td>NONE</td><td>GRANT</td><td>SELECT</td></tr><tr><td>0</td><td>public</td><td>DATABASE_ROLE</td><td>NONE</td><td>GRANT</td><td>SELECT</td></tr><tr><td>0</td><td>public</td><td>DATABASE_ROLE</td><td>NONE</td><td>GRANT</td><td>SELECT</td></tr><tr><td>0</td><td>public</td><td>DATABASE_ROLE</td><td>NONE</td><td>GRANT</td><td>SELECT</td></tr><tr><td>0</td><td>public</td><td>DATABASE_ROLE</td><td>NONE</td><td>GRANT</td><td>SELECT</td></tr><tr><td>0</td><td>public</td><td>DATABASE_ROLE</td><td>NONE</td><td>GRANT</td><td>SELECT</td></tr><tr><td>0</td><td>public</td><td>DATABASE_ROLE</td><td>NONE</td><td>GRANT</td><td>SELECT</td></tr><tr><td>0</td><td>public</td><td>DATABASE_ROLE</td><td>NONE</td><td>GRANT</td><td>SELECT</td></tr><tr><td>0</td><td>public</td><td>DATABASE_ROLE</td><td>NONE</td><td>GRANT</td><td>SELECT</td></tr><tr><td>0</td><td>public</td><td>DATABASE_ROLE</td><td>NONE</td><td>GRANT</td><td>SELECT</td></tr><tr><td>0</td><td>public</td><td>DATABASE_ROLE</td><td>NONE</td><td>GRANT</td><td>SELECT</td></tr><tr><td>0</td><td>public</td><td>DATABASE_ROLE</td><td>NONE</td><td>GRANT</td><td>SELECT</td></tr><tr><td>0</td><td>public</td><td>DATABASE_ROLE</td><td>NONE</td><td>GRANT</td><td>SELECT</td></tr><tr><td>0</td><td>public</td><td>DATABASE_ROLE</td><td>NONE</td><td>GRANT</td><td>SELECT</td></tr><tr><td>0</td><td>public</td><td>DATABASE_ROLE</td><td>NONE</td><td>GRANT</td><td>SELECT</td></tr><tr><td>0</td><td>public</td><td>DATABASE_ROLE</td><td>NONE</td><td>GRANT</td><td>SELECT</td></tr><tr><td>0</td><td>public</td><td>DATABASE_ROLE</td><td>NONE</td><td>GRANT</td><td>SELECT</td></tr><tr><td>0</td><td>public</td><td>DATABASE_ROLE</td><td>NONE</td><td>GRANT</td><td>SELECT</td></tr><tr><td>0</td><td>public</td><td>DATABASE_ROLE</td><td>NONE</td><td>GRANT</td><td>SELECT</td></tr><tr><td>0</td><td>public</td><td>DATABASE_ROLE</td><td>NONE</td><td>GRANT</td><td>SELECT</td></tr><tr><td>0</td><td>public</td><td>DATABASE_ROLE</td><td>NONE</td><td>GRANT</td><td>SELECT</td></tr><tr><td>0</td><td>public</td><td>DATABASE_ROLE</td><td>NONE</td><td>GRANT</td><td>SELECT</td></tr><tr><td>0</td><td>public</td><td>DATABASE_ROLE</td><td>NONE</td><td>GRANT</td><td>SELECT</td></tr><tr><td>0</td><td>public</td><td>DATABASE_ROLE</td><td>NONE</td><td>GRANT</td><td>SELECT</td></tr><tr><td>0</td><td>public</td><td>DATABASE_ROLE</td><td>NONE</td><td>GRANT</td><td>SELECT</td></tr><tr><td>0</td><td>public</td><td>DATABASE_ROLE</td><td>NONE</td><td>GRANT</td><td>SELECT</td></tr><tr><td>0</td><td>public</td><td>DATABASE_ROLE</td><td>NONE</td><td>GRANT</td><td>SELECT</td></tr><tr><td>0</td><td>public</td><td>DATABASE_ROLE</td><td>NONE</td><td>GRANT</td><td>SELECT</td></tr><tr><td>0</td><td>public</td><td>DATABASE_ROLE</td><td>NONE</td><td>GRANT</td><td>SELECT</td></tr><tr><td>0</td><td>public</td><td>DATABASE_ROLE</td><td>NONE</td><td>GRANT</td><td>SELECT</td></tr><tr><td>0</td><td>public</td><td>DATABASE_ROLE</td><td>NONE</td><td>GRANT</td><td>SELECT</td></tr><tr><td>0</td><td>public</td><td>DATABASE_ROLE</td><td>NONE</td><td>GRANT</td><td>SELECT</td></tr><tr><td>0</td><td>public</td><td>DATABASE_ROLE</td><td>NONE</td><td>GRANT</td><td>SELECT</td></tr><tr><td>0</td><td>public</td><td>DATABASE_ROLE</td><td>NONE</td><td>GRANT</td><td>SELECT</td></tr><tr><td>0</td><td>public</td><td>DATABASE_ROLE</td><td>NONE</td><td>GRANT</td><td>SELECT</td></tr><tr><td>0</td><td>public</td><td>DATABASE_ROLE</td><td>NONE</td><td>GRANT</td><td>SELECT</td></tr><tr><td>0</td><td>public</td><td>DATABASE_ROLE</td><td>NONE</td><td>GRANT</td><td>SELECT</td></tr><tr><td>0</td><td>public</td><td>DATABASE_ROLE</td><td>NONE</td><td>GRANT</td><td>SELECT</td></tr><tr><td>0</td><td>public</td><td>DATABASE_ROLE</td><td>NONE</td><td>GRANT</td><td>SELECT</td></tr><tr><td>0</td><td>public</td><td>DATABASE_ROLE</td><td>NONE</td><td>GRANT</td><td>SELECT</td></tr><tr><td>0</td><td>public</td><td>DATABASE_ROLE</td><td>NONE</td><td>GRANT</td><td>SELECT</td></tr><tr><td>0</td><td>public</td><td>DATABASE_ROLE</td><td>NONE</td><td>GRANT</td><td>SELECT</td></tr><tr><td>0</td><td>public</td><td>DATABASE_ROLE</td><td>NONE</td><td>GRANT</td><td>SELECT</td></tr><tr><td>0</td><td>public</td><td>DATABASE_ROLE</td><td>NONE</td><td>GRANT</td><td>SELECT</td></tr><tr><td>0</td><td>public</td><td>DATABASE_ROLE</td><td>NONE</td><td>GRANT</td><td>SELECT</td></tr><tr><td>0</td><td>public</td><td>DATABASE_ROLE</td><td>NONE</td><td>GRANT</td><td>SELECT</td></tr><tr><td>0</td><td>public</td><td>DATABASE_ROLE</td><td>NONE</td><td>GRANT</td><td>SELECT</td></tr><tr><td>0</td><td>public</td><td>DATABASE_ROLE</td><td>NONE</td><td>GRANT</td><td>SELECT</td></tr><tr><td>0</td><td>public</td><td>DATABASE_ROLE</td><td>NONE</td><td>GRANT</td><td>SELECT</td></tr><tr><td>0</td><td>public</td><td>DATABASE_ROLE</td><td>NONE</td><td>GRANT</td><td>SELECT</td></tr><tr><td>0</td><td>public</td><td>DATABASE_ROLE</td><td>NONE</td><td>GRANT</td><td>SELECT</td></tr><tr><td>0</td><td>public</td><td>DATABASE_ROLE</td><td>NONE</td><td>GRANT</td><td>SELECT</td></tr><tr><td>0</td><td>public</td><td>DATABASE_ROLE</td><td>NONE</td><td>GRANT</td><td>SELECT</td></tr><tr><td>0</td><td>public</td><td>DATABASE_ROLE</td><td>NONE</td><td>GRANT</td><td>SELECT</td></tr><tr><td>0</td><td>public</td><td>DATABASE_ROLE</td><td>NONE</td><td>GRANT</td><td>SELECT</td></tr><tr><td>0</td><td>public</td><td>DATABASE_ROLE</td><td>NONE</td><td>GRANT</td><td>SELECT</td></tr><tr><td>0</td><td>public</td><td>DATABASE_ROLE</td><td>NONE</td><td>GRANT</td><td>SELECT</td></tr><tr><td>0</td><td>public</td><td>DATABASE_ROLE</td><td>NONE</td><td>GRANT</td><td>SELECT</td></tr><tr><td>0</td><td>public</td><td>DATABASE_ROLE</td><td>NONE</td><td>GRANT</td><td>SELECT</td></tr><tr><td>0</td><td>public</td><td>DATABASE_ROLE</td><td>NONE</td><td>GRANT</td><td>SELECT</td></tr><tr><td>0</td><td>public</td><td>DATABASE_ROLE</td><td>NONE</td><td>GRANT</td><td>SELECT</td></tr><tr><td>0</td><td>public</td><td>DATABASE_ROLE</td><td>NONE</td><td>GRANT</td><td>SELECT</td></tr><tr><td>0</td><td>public</td><td>DATABASE_ROLE</td><td>NONE</td><td>GRANT</td><td>SELECT</td></tr><tr><td>0</td><td>public</td><td>DATABASE_ROLE</td><td>NONE</td><td>GRANT</td><td>SELECT</td></tr><tr><td>0</td><td>public</td><td>DATABASE_ROLE</td><td>NONE</td><td>GRANT</td><td>SELECT</td></tr><tr><td>0</td><td>public</td><td>DATABASE_ROLE</td><td>NONE</td><td>GRANT</td><td>SELECT</td></tr><tr><td>0</td><td>public</td><td>DATABASE_ROLE</td><td>NONE</td><td>GRANT</td><td>SELECT</td></tr><tr><td>0</td><td>public</td><td>DATABASE_ROLE</td><td>NONE</td><td>GRANT</td><td>SELECT</td></tr><tr><td>0</td><td>public</td><td>DATABASE_ROLE</td><td>NONE</td><td>GRANT</td><td>SELECT</td></tr><tr><td>0</td><td>public</td><td>DATABASE_ROLE</td><td>NONE</td><td>GRANT</td><td>SELECT</td></tr><tr><td>0</td><td>public</td><td>DATABASE_ROLE</td><td>NONE</td><td>GRANT</td><td>SELECT</td></tr><tr><td>0</td><td>public</td><td>DATABASE_ROLE</td><td>NONE</td><td>GRANT</td><td>SELECT</td></tr><tr><td>0</td><td>public</td><td>DATABASE_ROLE</td><td>NONE</td><td>GRANT</td><td>SELECT</td></tr><tr><td>0</td><td>public</td><td>DATABASE_ROLE</td><td>NONE</td><td>GRANT</td><td>SELECT</td></tr><tr><td>0</td><td>public</td><td>DATABASE_ROLE</td><td>NONE</td><td>GRANT</td><td>SELECT</td></tr><tr><td>0</td><td>public</td><td>DATABASE_ROLE</td><td>NONE</td><td>GRANT</td><td>SELECT</td></tr><tr><td>0</td><td>public</td><td>DATABASE_ROLE</td><td>NONE</td><td>GRANT</td><td>SELECT</td></tr><tr><td>0</td><td>public</td><td>DATABASE_ROLE</td><td>NONE</td><td>GRANT</td><td>SELECT</td></tr><tr><td>0</td><td>public</td><td>DATABASE_ROLE</td><td>NONE</td><td>GRANT</td><td>SELECT</td></tr><tr><td>0</td><td>public</td><td>DATABASE_ROLE</td><td>NONE</td><td>GRANT</td><td>SELECT</td></tr><tr><td>0</td><td>public</td><td>DATABASE_ROLE</td><td>NONE</td><td>GRANT</td><td>SELECT</td></tr><tr><td>0</td><td>public</td><td>DATABASE_ROLE</td><td>NONE</td><td>GRANT</td><td>SELECT</td></tr><tr><td>0</td><td>public</td><td>DATABASE_ROLE</td><td>NONE</td><td>GRANT</td><td>SELECT</td></tr><tr><td>0</td><td>public</td><td>DATABASE_ROLE</td><td>NONE</td><td>GRANT</td><td>SELECT</td></tr><tr><td>0</td><td>public</td><td>DATABASE_ROLE</td><td>NONE</td><td>GRANT</td><td>SELECT</td></tr><tr><td>0</td><td>public</td><td>DATABASE_ROLE</td><td>NONE</td><td>GRANT</td><td>SELECT</td></tr><tr><td>0</td><td>public</td><td>DATABASE_ROLE</td><td>NONE</td><td>GRANT</td><td>SELECT</td></tr><tr><td>0</td><td>public</td><td>DATABASE_ROLE</td><td>NONE</td><td>GRANT</td><td>SELECT</td></tr><tr><td>0</td><td>public</td><td>DATABASE_ROLE</td><td>NONE</td><td>GRANT</td><td>SELECT</td></tr><tr><td>0</td><td>public</td><td>DATABASE_ROLE</td><td>NONE</td><td>GRANT</td><td>SELECT</td></tr><tr><td>0</td><td>public</td><td>DATABASE_ROLE</td><td>NONE</td><td>GRANT</td><td>SELECT</td></tr><tr><td>0</td><td>public</td><td>DATABASE_ROLE</td><td>NONE</td><td>GRANT</td><td>SELECT</td></tr><tr><td>0</td><td>public</td><td>DATABASE_ROLE</td><td>NONE</td><td>GRANT</td><td>SELECT</td></tr><tr><td>0</td><td>public</td><td>DATABASE_ROLE</td><td>NONE</td><td>GRANT</td><td>SELECT</td></tr><tr><td>0</td><td>public</td><td>DATABASE_ROLE</td><td>NONE</td><td>GRANT</td><td>SELECT</td></tr><tr><td>0</td><td>public</td><td>DATABASE_ROLE</td><td>NONE</td><td>GRANT</td><td>SELECT</td></tr><tr><td>0</td><td>public</td><td>DATABASE_ROLE</td><td>NONE</td><td>GRANT</td><td>SELECT</td></tr><tr><td>0</td><td>public</td><td>DATABASE_ROLE</td><td>NONE</td><td>GRANT</td><td>SELECT</td></tr><tr><td>0</td><td>public</td><td>DATABASE_ROLE</td><td>NONE</td><td>GRANT</td><td>SELECT</td></tr><tr><td>0</td><td>public</td><td>DATABASE_ROLE</td><td>NONE</td><td>GRANT</td><td>SELECT</td></tr><tr><td>0</td><td>public</td><td>DATABASE_ROLE</td><td>NONE</td><td>GRANT</td><td>SELECT</td></tr><tr><td>0</td><td>public</td><td>DATABASE_ROLE</td><td>NONE</td><td>GRANT</td><td>SELECT</td></tr><tr><td>0</td><td>public</td><td>DATABASE_ROLE</td><td>NONE</td><td>GRANT</td><td>SELECT</td></tr><tr><td>0</td><td>public</td><td>DATABASE_ROLE</td><td>NONE</td><td>GRANT</td><td>SELECT</td></tr><tr><td>0</td><td>public</td><td>DATABASE_ROLE</td><td>NONE</td><td>GRANT</td><td>SELECT</td></tr><tr><td>0</td><td>public</td><td>DATABASE_ROLE</td><td>NONE</td><td>GRANT</td><td>SELECT</td></tr><tr><td>0</td><td>public</td><td>DATABASE_ROLE</td><td>NONE</td><td>GRANT</td><td>SELECT</td></tr><tr><td>0</td><td>public</td><td>DATABASE_ROLE</td><td>NONE</td><td>GRANT</td><td>SELECT</td></tr><tr><td>0</td><td>public</td><td>DATABASE_ROLE</td><td>NONE</td><td>GRANT</td><td>SELECT</td></tr><tr><td>0</td><td>public</td><td>DATABASE_ROLE</td><td>NONE</td><td>GRANT</td><td>SELECT</td></tr><tr><td>0</td><td>public</td><td>DATABASE_ROLE</td><td>NONE</td><td>GRANT</td><td>SELECT</td></tr><tr><td>0</td><td>public</td><td>DATABASE_ROLE</td><td>NONE</td><td>GRANT</td><td>SELECT</td></tr><tr><td>0</td><td>public</td><td>DATABASE_ROLE</td><td>NONE</td><td>GRANT</td><td>SELECT</td></tr><tr><td>0</td><td>public</td><td>DATABASE_ROLE</td><td>NONE</td><td>GRANT</td><td>SELECT</td></tr><tr><td>0</td><td>public</td><td>DATABASE_ROLE</td><td>NONE</td><td>GRANT</td><td>SELECT</td></tr><tr><td>0</td><td>public</td><td>DATABASE_ROLE</td><td>NONE</td><td>GRANT</td><td>SELECT</td></tr><tr><td>0</td><td>public</td><td>DATABASE_ROLE</td><td>NONE</td><td>GRANT</td><td>SELECT</td></tr><tr><td>0</td><td>public</td><td>DATABASE_ROLE</td><td>NONE</td><td>GRANT</td><td>SELECT</td></tr><tr><td>0</td><td>public</td><td>DATABASE_ROLE</td><td>NONE</td><td>GRANT</td><td>SELECT</td></tr><tr><td>0</td><td>public</td><td>DATABASE_ROLE</td><td>NONE</td><td>GRANT</td><td>SELECT</td></tr><tr><td>0</td><td>public</td><td>DATABASE_ROLE</td><td>NONE</td><td>GRANT</td><td>SELECT</td></tr><tr><td>0</td><td>public</td><td>DATABASE_ROLE</td><td>NONE</td><td>GRANT</td><td>SELECT</td></tr><tr><td>0</td><td>public</td><td>DATABASE_ROLE</td><td>NONE</td><td>GRANT</td><td>SELECT</td></tr><tr><td>0</td><td>public</td><td>DATABASE_ROLE</td><td>NONE</td><td>GRANT</td><td>SELECT</td></tr><tr><td>0</td><td>public</td><td>DATABASE_ROLE</td><td>NONE</td><td>GRANT</td><td>SELECT</td></tr><tr><td>0</td><td>public</td><td>DATABASE_ROLE</td><td>NONE</td><td>GRANT</td><td>SELECT</td></tr><tr><td>0</td><td>public</td><td>DATABASE_ROLE</td><td>NONE</td><td>GRANT</td><td>SELECT</td></tr><tr><td>0</td><td>public</td><td>DATABASE_ROLE</td><td>NONE</td><td>GRANT</td><td>SELECT</td></tr><tr><td>0</td><td>public</td><td>DATABASE_ROLE</td><td>NONE</td><td>GRANT</td><td>SELECT</td></tr><tr><td>0</td><td>public</td><td>DATABASE_ROLE</td><td>NONE</td><td>GRANT</td><td>SELECT</td></tr><tr><td>0</td><td>public</td><td>DATABASE_ROLE</td><td>NONE</td><td>GRANT</td><td>SELECT</td></tr><tr><td>0</td><td>public</td><td>DATABASE_ROLE</td><td>NONE</td><td>GRANT</td><td>SELECT</td></tr><tr><td>0</td><td>public</td><td>DATABASE_ROLE</td><td>NONE</td><td>GRANT</td><td>SELECT</td></tr><tr><td>0</td><td>public</td><td>DATABASE_ROLE</td><td>NONE</td><td>GRANT</td><td>SELECT</td></tr><tr><td>0</td><td>public</td><td>DATABASE_ROLE</td><td>NONE</td><td>GRANT</td><td>SELECT</td></tr><tr><td>0</td><td>public</td><td>DATABASE_ROLE</td><td>NONE</td><td>GRANT</td><td>SELECT</td></tr><tr><td>0</td><td>public</td><td>DATABASE_ROLE</td><td>NONE</td><td>GRANT</td><td>SELECT</td></tr><tr><td>0</td><td>public</td><td>DATABASE_ROLE</td><td>NONE</td><td>GRANT</td><td>SELECT</td></tr><tr><td>0</td><td>public</td><td>DATABASE_ROLE</td><td>NONE</td><td>GRANT</td><td>SELECT</td></tr><tr><td>0</td><td>public</td><td>DATABASE_ROLE</td><td>NONE</td><td>GRANT</td><td>SELECT</td></tr><tr><td>0</td><td>public</td><td>DATABASE_ROLE</td><td>NONE</td><td>GRANT</td><td>SELECT</td></tr><tr><td>0</td><td>public</td><td>DATABASE_ROLE</td><td>NONE</td><td>GRANT</td><td>SELECT</td></tr><tr><td>0</td><td>public</td><td>DATABASE_ROLE</td><td>NONE</td><td>GRANT</td><td>SELECT</td></tr><tr><td>0</td><td>public</td><td>DATABASE_ROLE</td><td>NONE</td><td>GRANT</td><td>SELECT</td></tr><tr><td>0</td><td>public</td><td>DATABASE_ROLE</td><td>NONE</td><td>GRANT</td><td>SELECT</td></tr><tr><td>0</td><td>public</td><td>DATABASE_ROLE</td><td>NONE</td><td>GRANT</td><td>SELECT</td></tr><tr><td>0</td><td>public</td><td>DATABASE_ROLE</td><td>NONE</td><td>GRANT</td><td>SELECT</td></tr><tr><td>0</td><td>public</td><td>DATABASE_ROLE</td><td>NONE</td><td>GRANT</td><td>SELECT</td></tr><tr><td>0</td><td>public</td><td>DATABASE_ROLE</td><td>NONE</td><td>GRANT</td><td>SELECT</td></tr><tr><td>0</td><td>public</td><td>DATABASE_ROLE</td><td>NONE</td><td>GRANT</td><td>SELECT</td></tr><tr><td>0</td><td>public</td><td>DATABASE_ROLE</td><td>NONE</td><td>GRANT</td><td>SELECT</td></tr><tr><td>0</td><td>public</td><td>DATABASE_ROLE</td><td>NONE</td><td>GRANT</td><td>SELECT</td></tr></table>"
                    }
                }
            ],
            "execution_count": 29
        },
        {
            "cell_type": "code",
            "source": [
                "-- Listing permissions on schema objects within a database\n",
                "SELECT pr.principal_id, pr.name, pr.type_desc,   \n",
                "    pr.authentication_type_desc, pe.state_desc,   \n",
                "    pe.permission_name, s.name + '.' + o.name AS ObjectName  \n",
                "FROM sys.database_principals AS pr  \n",
                "JOIN sys.database_permissions AS pe  \n",
                "    ON pe.grantee_principal_id = pr.principal_id  \n",
                "JOIN sys.objects AS o  \n",
                "    ON pe.major_id = o.object_id  \n",
                "JOIN sys.schemas AS s  \n",
                "    ON o.schema_id = s.schema_id;  "
            ],
            "metadata": {
                "azdata_cell_guid": "6773af60-f905-4191-8ea7-d2c77a566d23"
            },
            "outputs": [
                {
                    "output_type": "display_data",
                    "data": {
                        "text/html": "(0 rows affected)"
                    },
                    "metadata": {}
                },
                {
                    "output_type": "execute_result",
                    "metadata": {},
                    "execution_count": 30,
                    "data": {
                        "application/vnd.dataresource+json": {
                            "schema": {
                                "fields": [
                                    {
                                        "name": "principal_id"
                                    },
                                    {
                                        "name": "name"
                                    },
                                    {
                                        "name": "type_desc"
                                    },
                                    {
                                        "name": "authentication_type_desc"
                                    },
                                    {
                                        "name": "state_desc"
                                    },
                                    {
                                        "name": "permission_name"
                                    },
                                    {
                                        "name": "ObjectName"
                                    }
                                ]
                            },
                            "data": []
                        },
                        "text/html": "<table><tr><th>principal_id</th><th>name</th><th>type_desc</th><th>authentication_type_desc</th><th>state_desc</th><th>permission_name</th><th>ObjectName</th></tr></table>"
                    }
                },
                {
                    "output_type": "display_data",
                    "data": {
                        "text/html": "Total execution time: 00:00:00.006"
                    },
                    "metadata": {}
                }
            ],
            "execution_count": 30
        },
        {
            "cell_type": "code",
            "source": [
                "EXEC sp_helprotect"
            ],
            "metadata": {
                "azdata_cell_guid": "24786d7f-bc40-40e3-9cd6-34971fc38260"
            },
            "outputs": [
                {
                    "output_type": "display_data",
                    "data": {
                        "text/html": "(173 rows affected)"
                    },
                    "metadata": {}
                },
                {
                    "output_type": "display_data",
                    "data": {
                        "text/html": "Total execution time: 00:00:00.042"
                    },
                    "metadata": {}
                },
                {
                    "output_type": "execute_result",
                    "metadata": {},
                    "execution_count": 31,
                    "data": {
                        "application/vnd.dataresource+json": {
                            "schema": {
                                "fields": [
                                    {
                                        "name": "Owner"
                                    },
                                    {
                                        "name": "Object"
                                    },
                                    {
                                        "name": "Grantee"
                                    },
                                    {
                                        "name": "Grantor"
                                    },
                                    {
                                        "name": "ProtectType"
                                    },
                                    {
                                        "name": "Action"
                                    },
                                    {
                                        "name": "Column"
                                    }
                                ]
                            },
                            "data": [
                                {
                                    "0": "sys",
                                    "1": "all_columns",
                                    "2": "public",
                                    "3": "dbo",
                                    "4": "Grant     ",
                                    "5": "Select",
                                    "6": "(All)"
                                },
                                {
                                    "0": "sys",
                                    "1": "all_objects",
                                    "2": "public",
                                    "3": "dbo",
                                    "4": "Grant     ",
                                    "5": "Select",
                                    "6": "(All)"
                                },
                                {
                                    "0": "sys",
                                    "1": "all_parameters",
                                    "2": "public",
                                    "3": "dbo",
                                    "4": "Grant     ",
                                    "5": "Select",
                                    "6": "(All)"
                                },
                                {
                                    "0": "sys",
                                    "1": "all_sql_modules",
                                    "2": "public",
                                    "3": "dbo",
                                    "4": "Grant     ",
                                    "5": "Select",
                                    "6": "(All)"
                                },
                                {
                                    "0": "sys",
                                    "1": "all_views",
                                    "2": "public",
                                    "3": "dbo",
                                    "4": "Grant     ",
                                    "5": "Select",
                                    "6": "(All)"
                                },
                                {
                                    "0": "sys",
                                    "1": "allocation_units",
                                    "2": "public",
                                    "3": "dbo",
                                    "4": "Grant     ",
                                    "5": "Select",
                                    "6": "(All)"
                                },
                                {
                                    "0": "sys",
                                    "1": "assemblies",
                                    "2": "public",
                                    "3": "dbo",
                                    "4": "Grant     ",
                                    "5": "Select",
                                    "6": "(All)"
                                },
                                {
                                    "0": "sys",
                                    "1": "assembly_files",
                                    "2": "public",
                                    "3": "dbo",
                                    "4": "Grant     ",
                                    "5": "Select",
                                    "6": "(All)"
                                },
                                {
                                    "0": "sys",
                                    "1": "assembly_modules",
                                    "2": "public",
                                    "3": "dbo",
                                    "4": "Grant     ",
                                    "5": "Select",
                                    "6": "(All)"
                                },
                                {
                                    "0": "sys",
                                    "1": "assembly_references",
                                    "2": "public",
                                    "3": "dbo",
                                    "4": "Grant     ",
                                    "5": "Select",
                                    "6": "(All)"
                                },
                                {
                                    "0": "sys",
                                    "1": "assembly_types",
                                    "2": "public",
                                    "3": "dbo",
                                    "4": "Grant     ",
                                    "5": "Select",
                                    "6": "(All)"
                                },
                                {
                                    "0": "sys",
                                    "1": "asymmetric_keys",
                                    "2": "public",
                                    "3": "dbo",
                                    "4": "Grant     ",
                                    "5": "Select",
                                    "6": "(All)"
                                },
                                {
                                    "0": "sys",
                                    "1": "certificates",
                                    "2": "public",
                                    "3": "dbo",
                                    "4": "Grant     ",
                                    "5": "Select",
                                    "6": "(All)"
                                },
                                {
                                    "0": "sys",
                                    "1": "change_tracking_tables",
                                    "2": "public",
                                    "3": "dbo",
                                    "4": "Grant     ",
                                    "5": "Select",
                                    "6": "(All)"
                                },
                                {
                                    "0": "sys",
                                    "1": "check_constraints",
                                    "2": "public",
                                    "3": "dbo",
                                    "4": "Grant     ",
                                    "5": "Select",
                                    "6": "(All)"
                                },
                                {
                                    "0": "sys",
                                    "1": "column_encryption_key_values",
                                    "2": "public",
                                    "3": "dbo",
                                    "4": "Grant     ",
                                    "5": "Select",
                                    "6": "(All)"
                                },
                                {
                                    "0": "sys",
                                    "1": "column_encryption_keys",
                                    "2": "public",
                                    "3": "dbo",
                                    "4": "Grant     ",
                                    "5": "Select",
                                    "6": "(All)"
                                },
                                {
                                    "0": "sys",
                                    "1": "column_master_keys",
                                    "2": "public",
                                    "3": "dbo",
                                    "4": "Grant     ",
                                    "5": "Select",
                                    "6": "(All)"
                                },
                                {
                                    "0": "sys",
                                    "1": "column_store_dictionaries",
                                    "2": "public",
                                    "3": "dbo",
                                    "4": "Grant     ",
                                    "5": "Select",
                                    "6": "(All)"
                                },
                                {
                                    "0": "sys",
                                    "1": "column_store_row_groups",
                                    "2": "public",
                                    "3": "dbo",
                                    "4": "Grant     ",
                                    "5": "Select",
                                    "6": "(All)"
                                },
                                {
                                    "0": "sys",
                                    "1": "column_store_segments",
                                    "2": "public",
                                    "3": "dbo",
                                    "4": "Grant     ",
                                    "5": "Select",
                                    "6": "(All)"
                                },
                                {
                                    "0": "sys",
                                    "1": "column_type_usages",
                                    "2": "public",
                                    "3": "dbo",
                                    "4": "Grant     ",
                                    "5": "Select",
                                    "6": "(All)"
                                },
                                {
                                    "0": "sys",
                                    "1": "column_xml_schema_collection_usages",
                                    "2": "public",
                                    "3": "dbo",
                                    "4": "Grant     ",
                                    "5": "Select",
                                    "6": "(All)"
                                },
                                {
                                    "0": "sys",
                                    "1": "columns",
                                    "2": "public",
                                    "3": "dbo",
                                    "4": "Grant     ",
                                    "5": "Select",
                                    "6": "(All)"
                                },
                                {
                                    "0": "sys",
                                    "1": "computed_columns",
                                    "2": "public",
                                    "3": "dbo",
                                    "4": "Grant     ",
                                    "5": "Select",
                                    "6": "(All)"
                                },
                                {
                                    "0": "sys",
                                    "1": "conversation_endpoints",
                                    "2": "public",
                                    "3": "dbo",
                                    "4": "Grant     ",
                                    "5": "Select",
                                    "6": "(All)"
                                },
                                {
                                    "0": "sys",
                                    "1": "conversation_groups",
                                    "2": "public",
                                    "3": "dbo",
                                    "4": "Grant     ",
                                    "5": "Select",
                                    "6": "(All)"
                                },
                                {
                                    "0": "sys",
                                    "1": "conversation_priorities",
                                    "2": "public",
                                    "3": "dbo",
                                    "4": "Grant     ",
                                    "5": "Select",
                                    "6": "(All)"
                                },
                                {
                                    "0": "sys",
                                    "1": "crypt_properties",
                                    "2": "public",
                                    "3": "dbo",
                                    "4": "Grant     ",
                                    "5": "Select",
                                    "6": "(All)"
                                },
                                {
                                    "0": "sys",
                                    "1": "data_spaces",
                                    "2": "public",
                                    "3": "dbo",
                                    "4": "Grant     ",
                                    "5": "Select",
                                    "6": "(All)"
                                },
                                {
                                    "0": "sys",
                                    "1": "database_audit_specification_details",
                                    "2": "public",
                                    "3": "dbo",
                                    "4": "Grant     ",
                                    "5": "Select",
                                    "6": "(All)"
                                },
                                {
                                    "0": "sys",
                                    "1": "database_audit_specifications",
                                    "2": "public",
                                    "3": "dbo",
                                    "4": "Grant     ",
                                    "5": "Select",
                                    "6": "(All)"
                                },
                                {
                                    "0": "sys",
                                    "1": "database_automatic_tuning_mode",
                                    "2": "public",
                                    "3": "dbo",
                                    "4": "Grant     ",
                                    "5": "Select",
                                    "6": "(All)"
                                },
                                {
                                    "0": "sys",
                                    "1": "database_automatic_tuning_options",
                                    "2": "public",
                                    "3": "dbo",
                                    "4": "Grant     ",
                                    "5": "Select",
                                    "6": "(All)"
                                },
                                {
                                    "0": "sys",
                                    "1": "database_credentials",
                                    "2": "public",
                                    "3": "dbo",
                                    "4": "Grant     ",
                                    "5": "Select",
                                    "6": "(All)"
                                },
                                {
                                    "0": "sys",
                                    "1": "database_files",
                                    "2": "public",
                                    "3": "dbo",
                                    "4": "Grant     ",
                                    "5": "Select",
                                    "6": "(All)"
                                },
                                {
                                    "0": "sys",
                                    "1": "database_permissions",
                                    "2": "public",
                                    "3": "dbo",
                                    "4": "Grant     ",
                                    "5": "Select",
                                    "6": "(All)"
                                },
                                {
                                    "0": "sys",
                                    "1": "database_principals",
                                    "2": "public",
                                    "3": "dbo",
                                    "4": "Grant     ",
                                    "5": "Select",
                                    "6": "(All)"
                                },
                                {
                                    "0": "sys",
                                    "1": "database_role_members",
                                    "2": "public",
                                    "3": "dbo",
                                    "4": "Grant     ",
                                    "5": "Select",
                                    "6": "(All)"
                                },
                                {
                                    "0": "sys",
                                    "1": "database_scoped_configurations",
                                    "2": "public",
                                    "3": "dbo",
                                    "4": "Grant     ",
                                    "5": "Select",
                                    "6": "(All)"
                                },
                                {
                                    "0": "sys",
                                    "1": "database_scoped_credentials",
                                    "2": "public",
                                    "3": "dbo",
                                    "4": "Grant     ",
                                    "5": "Select",
                                    "6": "(All)"
                                },
                                {
                                    "0": "sys",
                                    "1": "default_constraints",
                                    "2": "public",
                                    "3": "dbo",
                                    "4": "Grant     ",
                                    "5": "Select",
                                    "6": "(All)"
                                },
                                {
                                    "0": "sys",
                                    "1": "destination_data_spaces",
                                    "2": "public",
                                    "3": "dbo",
                                    "4": "Grant     ",
                                    "5": "Select",
                                    "6": "(All)"
                                },
                                {
                                    "0": "sys",
                                    "1": "dm_db_column_store_row_group_physical_stats",
                                    "2": "public",
                                    "3": "dbo",
                                    "4": "Grant     ",
                                    "5": "Select",
                                    "6": "(All)"
                                },
                                {
                                    "0": "sys",
                                    "1": "event_notifications",
                                    "2": "public",
                                    "3": "dbo",
                                    "4": "Grant     ",
                                    "5": "Select",
                                    "6": "(All)"
                                },
                                {
                                    "0": "sys",
                                    "1": "events",
                                    "2": "public",
                                    "3": "dbo",
                                    "4": "Grant     ",
                                    "5": "Select",
                                    "6": "(All)"
                                },
                                {
                                    "0": "sys",
                                    "1": "extended_procedures",
                                    "2": "public",
                                    "3": "dbo",
                                    "4": "Grant     ",
                                    "5": "Select",
                                    "6": "(All)"
                                },
                                {
                                    "0": "sys",
                                    "1": "extended_properties",
                                    "2": "public",
                                    "3": "dbo",
                                    "4": "Grant     ",
                                    "5": "Select",
                                    "6": "(All)"
                                },
                                {
                                    "0": "sys",
                                    "1": "external_data_sources",
                                    "2": "public",
                                    "3": "dbo",
                                    "4": "Grant     ",
                                    "5": "Select",
                                    "6": "(All)"
                                },
                                {
                                    "0": "sys",
                                    "1": "external_file_formats",
                                    "2": "public",
                                    "3": "dbo",
                                    "4": "Grant     ",
                                    "5": "Select",
                                    "6": "(All)"
                                },
                                {
                                    "0": "sys",
                                    "1": "external_libraries",
                                    "2": "public",
                                    "3": "dbo",
                                    "4": "Grant     ",
                                    "5": "Select",
                                    "6": "(All)"
                                },
                                {
                                    "0": "sys",
                                    "1": "external_library_files",
                                    "2": "public",
                                    "3": "dbo",
                                    "4": "Grant     ",
                                    "5": "Select",
                                    "6": "(All)"
                                },
                                {
                                    "0": "sys",
                                    "1": "external_tables",
                                    "2": "public",
                                    "3": "dbo",
                                    "4": "Grant     ",
                                    "5": "Select",
                                    "6": "(All)"
                                },
                                {
                                    "0": "sys",
                                    "1": "filegroups",
                                    "2": "public",
                                    "3": "dbo",
                                    "4": "Grant     ",
                                    "5": "Select",
                                    "6": "(All)"
                                },
                                {
                                    "0": "sys",
                                    "1": "filetable_system_defined_objects",
                                    "2": "public",
                                    "3": "dbo",
                                    "4": "Grant     ",
                                    "5": "Select",
                                    "6": "(All)"
                                },
                                {
                                    "0": "sys",
                                    "1": "filetables",
                                    "2": "public",
                                    "3": "dbo",
                                    "4": "Grant     ",
                                    "5": "Select",
                                    "6": "(All)"
                                },
                                {
                                    "0": "sys",
                                    "1": "foreign_key_columns",
                                    "2": "public",
                                    "3": "dbo",
                                    "4": "Grant     ",
                                    "5": "Select",
                                    "6": "(All)"
                                },
                                {
                                    "0": "sys",
                                    "1": "foreign_keys",
                                    "2": "public",
                                    "3": "dbo",
                                    "4": "Grant     ",
                                    "5": "Select",
                                    "6": "(All)"
                                },
                                {
                                    "0": "sys",
                                    "1": "fulltext_catalogs",
                                    "2": "public",
                                    "3": "dbo",
                                    "4": "Grant     ",
                                    "5": "Select",
                                    "6": "(All)"
                                },
                                {
                                    "0": "sys",
                                    "1": "fulltext_index_catalog_usages",
                                    "2": "public",
                                    "3": "dbo",
                                    "4": "Grant     ",
                                    "5": "Select",
                                    "6": "(All)"
                                },
                                {
                                    "0": "sys",
                                    "1": "fulltext_index_columns",
                                    "2": "public",
                                    "3": "dbo",
                                    "4": "Grant     ",
                                    "5": "Select",
                                    "6": "(All)"
                                },
                                {
                                    "0": "sys",
                                    "1": "fulltext_index_fragments",
                                    "2": "public",
                                    "3": "dbo",
                                    "4": "Grant     ",
                                    "5": "Select",
                                    "6": "(All)"
                                },
                                {
                                    "0": "sys",
                                    "1": "fulltext_indexes",
                                    "2": "public",
                                    "3": "dbo",
                                    "4": "Grant     ",
                                    "5": "Select",
                                    "6": "(All)"
                                },
                                {
                                    "0": "sys",
                                    "1": "fulltext_stoplists",
                                    "2": "public",
                                    "3": "dbo",
                                    "4": "Grant     ",
                                    "5": "Select",
                                    "6": "(All)"
                                },
                                {
                                    "0": "sys",
                                    "1": "fulltext_stopwords",
                                    "2": "public",
                                    "3": "dbo",
                                    "4": "Grant     ",
                                    "5": "Select",
                                    "6": "(All)"
                                },
                                {
                                    "0": "sys",
                                    "1": "function_order_columns",
                                    "2": "public",
                                    "3": "dbo",
                                    "4": "Grant     ",
                                    "5": "Select",
                                    "6": "(All)"
                                },
                                {
                                    "0": "sys",
                                    "1": "hash_indexes",
                                    "2": "public",
                                    "3": "dbo",
                                    "4": "Grant     ",
                                    "5": "Select",
                                    "6": "(All)"
                                },
                                {
                                    "0": "sys",
                                    "1": "identity_columns",
                                    "2": "public",
                                    "3": "dbo",
                                    "4": "Grant     ",
                                    "5": "Select",
                                    "6": "(All)"
                                },
                                {
                                    "0": "sys",
                                    "1": "index_columns",
                                    "2": "public",
                                    "3": "dbo",
                                    "4": "Grant     ",
                                    "5": "Select",
                                    "6": "(All)"
                                },
                                {
                                    "0": "sys",
                                    "1": "index_resumable_operations",
                                    "2": "public",
                                    "3": "dbo",
                                    "4": "Grant     ",
                                    "5": "Select",
                                    "6": "(All)"
                                },
                                {
                                    "0": "sys",
                                    "1": "indexes",
                                    "2": "public",
                                    "3": "dbo",
                                    "4": "Grant     ",
                                    "5": "Select",
                                    "6": "(All)"
                                },
                                {
                                    "0": "sys",
                                    "1": "internal_partitions",
                                    "2": "public",
                                    "3": "dbo",
                                    "4": "Grant     ",
                                    "5": "Select",
                                    "6": "(All)"
                                },
                                {
                                    "0": "sys",
                                    "1": "internal_tables",
                                    "2": "public",
                                    "3": "dbo",
                                    "4": "Grant     ",
                                    "5": "Select",
                                    "6": "(All)"
                                },
                                {
                                    "0": "sys",
                                    "1": "key_constraints",
                                    "2": "public",
                                    "3": "dbo",
                                    "4": "Grant     ",
                                    "5": "Select",
                                    "6": "(All)"
                                },
                                {
                                    "0": "sys",
                                    "1": "key_encryptions",
                                    "2": "public",
                                    "3": "dbo",
                                    "4": "Grant     ",
                                    "5": "Select",
                                    "6": "(All)"
                                },
                                {
                                    "0": "sys",
                                    "1": "masked_columns",
                                    "2": "public",
                                    "3": "dbo",
                                    "4": "Grant     ",
                                    "5": "Select",
                                    "6": "(All)"
                                },
                                {
                                    "0": "sys",
                                    "1": "memory_optimized_tables_internal_attributes",
                                    "2": "public",
                                    "3": "dbo",
                                    "4": "Grant     ",
                                    "5": "Select",
                                    "6": "(All)"
                                },
                                {
                                    "0": "sys",
                                    "1": "message_type_xml_schema_collection_usages",
                                    "2": "public",
                                    "3": "dbo",
                                    "4": "Grant     ",
                                    "5": "Select",
                                    "6": "(All)"
                                },
                                {
                                    "0": "sys",
                                    "1": "module_assembly_usages",
                                    "2": "public",
                                    "3": "dbo",
                                    "4": "Grant     ",
                                    "5": "Select",
                                    "6": "(All)"
                                },
                                {
                                    "0": "sys",
                                    "1": "numbered_procedure_parameters",
                                    "2": "public",
                                    "3": "dbo",
                                    "4": "Grant     ",
                                    "5": "Select",
                                    "6": "(All)"
                                },
                                {
                                    "0": "sys",
                                    "1": "numbered_procedures",
                                    "2": "public",
                                    "3": "dbo",
                                    "4": "Grant     ",
                                    "5": "Select",
                                    "6": "(All)"
                                },
                                {
                                    "0": "sys",
                                    "1": "objects",
                                    "2": "public",
                                    "3": "dbo",
                                    "4": "Grant     ",
                                    "5": "Select",
                                    "6": "(All)"
                                },
                                {
                                    "0": "sys",
                                    "1": "parameter_type_usages",
                                    "2": "public",
                                    "3": "dbo",
                                    "4": "Grant     ",
                                    "5": "Select",
                                    "6": "(All)"
                                },
                                {
                                    "0": "sys",
                                    "1": "parameter_xml_schema_collection_usages",
                                    "2": "public",
                                    "3": "dbo",
                                    "4": "Grant     ",
                                    "5": "Select",
                                    "6": "(All)"
                                },
                                {
                                    "0": "sys",
                                    "1": "parameters",
                                    "2": "public",
                                    "3": "dbo",
                                    "4": "Grant     ",
                                    "5": "Select",
                                    "6": "(All)"
                                },
                                {
                                    "0": "sys",
                                    "1": "partition_functions",
                                    "2": "public",
                                    "3": "dbo",
                                    "4": "Grant     ",
                                    "5": "Select",
                                    "6": "(All)"
                                },
                                {
                                    "0": "sys",
                                    "1": "partition_parameters",
                                    "2": "public",
                                    "3": "dbo",
                                    "4": "Grant     ",
                                    "5": "Select",
                                    "6": "(All)"
                                },
                                {
                                    "0": "sys",
                                    "1": "partition_range_values",
                                    "2": "public",
                                    "3": "dbo",
                                    "4": "Grant     ",
                                    "5": "Select",
                                    "6": "(All)"
                                },
                                {
                                    "0": "sys",
                                    "1": "partition_schemes",
                                    "2": "public",
                                    "3": "dbo",
                                    "4": "Grant     ",
                                    "5": "Select",
                                    "6": "(All)"
                                },
                                {
                                    "0": "sys",
                                    "1": "partitions",
                                    "2": "public",
                                    "3": "dbo",
                                    "4": "Grant     ",
                                    "5": "Select",
                                    "6": "(All)"
                                },
                                {
                                    "0": "sys",
                                    "1": "periods",
                                    "2": "public",
                                    "3": "dbo",
                                    "4": "Grant     ",
                                    "5": "Select",
                                    "6": "(All)"
                                },
                                {
                                    "0": "sys",
                                    "1": "plan_guides",
                                    "2": "public",
                                    "3": "dbo",
                                    "4": "Grant     ",
                                    "5": "Select",
                                    "6": "(All)"
                                },
                                {
                                    "0": "sys",
                                    "1": "procedures",
                                    "2": "public",
                                    "3": "dbo",
                                    "4": "Grant     ",
                                    "5": "Select",
                                    "6": "(All)"
                                },
                                {
                                    "0": "sys",
                                    "1": "query_context_settings",
                                    "2": "public",
                                    "3": "dbo",
                                    "4": "Grant     ",
                                    "5": "Select",
                                    "6": "(All)"
                                },
                                {
                                    "0": "sys",
                                    "1": "query_store_plan",
                                    "2": "public",
                                    "3": "dbo",
                                    "4": "Grant     ",
                                    "5": "Select",
                                    "6": "(All)"
                                },
                                {
                                    "0": "sys",
                                    "1": "query_store_query",
                                    "2": "public",
                                    "3": "dbo",
                                    "4": "Grant     ",
                                    "5": "Select",
                                    "6": "(All)"
                                },
                                {
                                    "0": "sys",
                                    "1": "query_store_query_text",
                                    "2": "public",
                                    "3": "dbo",
                                    "4": "Grant     ",
                                    "5": "Select",
                                    "6": "(All)"
                                },
                                {
                                    "0": "sys",
                                    "1": "query_store_runtime_stats",
                                    "2": "public",
                                    "3": "dbo",
                                    "4": "Grant     ",
                                    "5": "Select",
                                    "6": "(All)"
                                },
                                {
                                    "0": "sys",
                                    "1": "query_store_runtime_stats_interval",
                                    "2": "public",
                                    "3": "dbo",
                                    "4": "Grant     ",
                                    "5": "Select",
                                    "6": "(All)"
                                },
                                {
                                    "0": "sys",
                                    "1": "query_store_wait_stats",
                                    "2": "public",
                                    "3": "dbo",
                                    "4": "Grant     ",
                                    "5": "Select",
                                    "6": "(All)"
                                },
                                {
                                    "0": "sys",
                                    "1": "registered_search_properties",
                                    "2": "public",
                                    "3": "dbo",
                                    "4": "Grant     ",
                                    "5": "Select",
                                    "6": "(All)"
                                },
                                {
                                    "0": "sys",
                                    "1": "registered_search_property_lists",
                                    "2": "public",
                                    "3": "dbo",
                                    "4": "Grant     ",
                                    "5": "Select",
                                    "6": "(All)"
                                },
                                {
                                    "0": "sys",
                                    "1": "remote_data_archive_databases",
                                    "2": "public",
                                    "3": "dbo",
                                    "4": "Grant     ",
                                    "5": "Select",
                                    "6": "(All)"
                                },
                                {
                                    "0": "sys",
                                    "1": "remote_data_archive_tables",
                                    "2": "public",
                                    "3": "dbo",
                                    "4": "Grant     ",
                                    "5": "Select",
                                    "6": "(All)"
                                },
                                {
                                    "0": "sys",
                                    "1": "remote_service_bindings",
                                    "2": "public",
                                    "3": "dbo",
                                    "4": "Grant     ",
                                    "5": "Select",
                                    "6": "(All)"
                                },
                                {
                                    "0": "sys",
                                    "1": "routes",
                                    "2": "public",
                                    "3": "dbo",
                                    "4": "Grant     ",
                                    "5": "Select",
                                    "6": "(All)"
                                },
                                {
                                    "0": "sys",
                                    "1": "schemas",
                                    "2": "public",
                                    "3": "dbo",
                                    "4": "Grant     ",
                                    "5": "Select",
                                    "6": "(All)"
                                },
                                {
                                    "0": "sys",
                                    "1": "security_policies",
                                    "2": "public",
                                    "3": "dbo",
                                    "4": "Grant     ",
                                    "5": "Select",
                                    "6": "(All)"
                                },
                                {
                                    "0": "sys",
                                    "1": "security_predicates",
                                    "2": "public",
                                    "3": "dbo",
                                    "4": "Grant     ",
                                    "5": "Select",
                                    "6": "(All)"
                                },
                                {
                                    "0": "sys",
                                    "1": "selective_xml_index_namespaces",
                                    "2": "public",
                                    "3": "dbo",
                                    "4": "Grant     ",
                                    "5": "Select",
                                    "6": "(All)"
                                },
                                {
                                    "0": "sys",
                                    "1": "selective_xml_index_paths",
                                    "2": "public",
                                    "3": "dbo",
                                    "4": "Grant     ",
                                    "5": "Select",
                                    "6": "(All)"
                                },
                                {
                                    "0": "sys",
                                    "1": "sequences",
                                    "2": "public",
                                    "3": "dbo",
                                    "4": "Grant     ",
                                    "5": "Select",
                                    "6": "(All)"
                                },
                                {
                                    "0": "sys",
                                    "1": "service_contract_message_usages",
                                    "2": "public",
                                    "3": "dbo",
                                    "4": "Grant     ",
                                    "5": "Select",
                                    "6": "(All)"
                                },
                                {
                                    "0": "sys",
                                    "1": "service_contract_usages",
                                    "2": "public",
                                    "3": "dbo",
                                    "4": "Grant     ",
                                    "5": "Select",
                                    "6": "(All)"
                                },
                                {
                                    "0": "sys",
                                    "1": "service_contracts",
                                    "2": "public",
                                    "3": "dbo",
                                    "4": "Grant     ",
                                    "5": "Select",
                                    "6": "(All)"
                                },
                                {
                                    "0": "sys",
                                    "1": "service_message_types",
                                    "2": "public",
                                    "3": "dbo",
                                    "4": "Grant     ",
                                    "5": "Select",
                                    "6": "(All)"
                                },
                                {
                                    "0": "sys",
                                    "1": "service_queue_usages",
                                    "2": "public",
                                    "3": "dbo",
                                    "4": "Grant     ",
                                    "5": "Select",
                                    "6": "(All)"
                                },
                                {
                                    "0": "sys",
                                    "1": "service_queues",
                                    "2": "public",
                                    "3": "dbo",
                                    "4": "Grant     ",
                                    "5": "Select",
                                    "6": "(All)"
                                },
                                {
                                    "0": "sys",
                                    "1": "services",
                                    "2": "public",
                                    "3": "dbo",
                                    "4": "Grant     ",
                                    "5": "Select",
                                    "6": "(All)"
                                },
                                {
                                    "0": "sys",
                                    "1": "spatial_index_tessellations",
                                    "2": "public",
                                    "3": "dbo",
                                    "4": "Grant     ",
                                    "5": "Select",
                                    "6": "(All)"
                                },
                                {
                                    "0": "sys",
                                    "1": "spatial_indexes",
                                    "2": "public",
                                    "3": "dbo",
                                    "4": "Grant     ",
                                    "5": "Select",
                                    "6": "(All)"
                                },
                                {
                                    "0": "sys",
                                    "1": "sql_dependencies",
                                    "2": "public",
                                    "3": "dbo",
                                    "4": "Grant     ",
                                    "5": "Select",
                                    "6": "(All)"
                                },
                                {
                                    "0": "sys",
                                    "1": "sql_modules",
                                    "2": "public",
                                    "3": "dbo",
                                    "4": "Grant     ",
                                    "5": "Select",
                                    "6": "(All)"
                                },
                                {
                                    "0": "sys",
                                    "1": "stats",
                                    "2": "public",
                                    "3": "dbo",
                                    "4": "Grant     ",
                                    "5": "Select",
                                    "6": "(All)"
                                },
                                {
                                    "0": "sys",
                                    "1": "stats_columns",
                                    "2": "public",
                                    "3": "dbo",
                                    "4": "Grant     ",
                                    "5": "Select",
                                    "6": "(All)"
                                },
                                {
                                    "0": "sys",
                                    "1": "symmetric_keys",
                                    "2": "public",
                                    "3": "dbo",
                                    "4": "Grant     ",
                                    "5": "Select",
                                    "6": "(All)"
                                },
                                {
                                    "0": "sys",
                                    "1": "synonyms",
                                    "2": "public",
                                    "3": "dbo",
                                    "4": "Grant     ",
                                    "5": "Select",
                                    "6": "(All)"
                                },
                                {
                                    "0": "sys",
                                    "1": "syscolumns",
                                    "2": "public",
                                    "3": "dbo",
                                    "4": "Grant     ",
                                    "5": "Select",
                                    "6": "(All)"
                                },
                                {
                                    "0": "sys",
                                    "1": "syscomments",
                                    "2": "public",
                                    "3": "dbo",
                                    "4": "Grant     ",
                                    "5": "Select",
                                    "6": "(All)"
                                },
                                {
                                    "0": "sys",
                                    "1": "sysconstraints",
                                    "2": "public",
                                    "3": "dbo",
                                    "4": "Grant     ",
                                    "5": "Select",
                                    "6": "(All)"
                                },
                                {
                                    "0": "sys",
                                    "1": "sysdepends",
                                    "2": "public",
                                    "3": "dbo",
                                    "4": "Grant     ",
                                    "5": "Select",
                                    "6": "(All)"
                                },
                                {
                                    "0": "sys",
                                    "1": "sysfilegroups",
                                    "2": "public",
                                    "3": "dbo",
                                    "4": "Grant     ",
                                    "5": "Select",
                                    "6": "(All)"
                                },
                                {
                                    "0": "sys",
                                    "1": "sysfiles",
                                    "2": "public",
                                    "3": "dbo",
                                    "4": "Grant     ",
                                    "5": "Select",
                                    "6": "(All)"
                                },
                                {
                                    "0": "sys",
                                    "1": "sysforeignkeys",
                                    "2": "public",
                                    "3": "dbo",
                                    "4": "Grant     ",
                                    "5": "Select",
                                    "6": "(All)"
                                },
                                {
                                    "0": "sys",
                                    "1": "sysfulltextcatalogs",
                                    "2": "public",
                                    "3": "dbo",
                                    "4": "Grant     ",
                                    "5": "Select",
                                    "6": "(All)"
                                },
                                {
                                    "0": "sys",
                                    "1": "sysindexes",
                                    "2": "public",
                                    "3": "dbo",
                                    "4": "Grant     ",
                                    "5": "Select",
                                    "6": "(All)"
                                },
                                {
                                    "0": "sys",
                                    "1": "sysindexkeys",
                                    "2": "public",
                                    "3": "dbo",
                                    "4": "Grant     ",
                                    "5": "Select",
                                    "6": "(All)"
                                },
                                {
                                    "0": "sys",
                                    "1": "sysmembers",
                                    "2": "public",
                                    "3": "dbo",
                                    "4": "Grant     ",
                                    "5": "Select",
                                    "6": "(All)"
                                },
                                {
                                    "0": "sys",
                                    "1": "sysobjects",
                                    "2": "public",
                                    "3": "dbo",
                                    "4": "Grant     ",
                                    "5": "Select",
                                    "6": "(All)"
                                },
                                {
                                    "0": "sys",
                                    "1": "syspermissions",
                                    "2": "public",
                                    "3": "dbo",
                                    "4": "Grant     ",
                                    "5": "Select",
                                    "6": "(All)"
                                },
                                {
                                    "0": "sys",
                                    "1": "sysprotects",
                                    "2": "public",
                                    "3": "dbo",
                                    "4": "Grant     ",
                                    "5": "Select",
                                    "6": "(All)"
                                },
                                {
                                    "0": "sys",
                                    "1": "sysreferences",
                                    "2": "public",
                                    "3": "dbo",
                                    "4": "Grant     ",
                                    "5": "Select",
                                    "6": "(All)"
                                },
                                {
                                    "0": "sys",
                                    "1": "system_columns",
                                    "2": "public",
                                    "3": "dbo",
                                    "4": "Grant     ",
                                    "5": "Select",
                                    "6": "(All)"
                                },
                                {
                                    "0": "sys",
                                    "1": "system_objects",
                                    "2": "public",
                                    "3": "dbo",
                                    "4": "Grant     ",
                                    "5": "Select",
                                    "6": "(All)"
                                },
                                {
                                    "0": "sys",
                                    "1": "system_parameters",
                                    "2": "public",
                                    "3": "dbo",
                                    "4": "Grant     ",
                                    "5": "Select",
                                    "6": "(All)"
                                },
                                {
                                    "0": "sys",
                                    "1": "system_sql_modules",
                                    "2": "public",
                                    "3": "dbo",
                                    "4": "Grant     ",
                                    "5": "Select",
                                    "6": "(All)"
                                },
                                {
                                    "0": "sys",
                                    "1": "system_views",
                                    "2": "public",
                                    "3": "dbo",
                                    "4": "Grant     ",
                                    "5": "Select",
                                    "6": "(All)"
                                },
                                {
                                    "0": "sys",
                                    "1": "systypes",
                                    "2": "public",
                                    "3": "dbo",
                                    "4": "Grant     ",
                                    "5": "Select",
                                    "6": "(All)"
                                },
                                {
                                    "0": "sys",
                                    "1": "sysusers",
                                    "2": "public",
                                    "3": "dbo",
                                    "4": "Grant     ",
                                    "5": "Select",
                                    "6": "(All)"
                                },
                                {
                                    "0": "sys",
                                    "1": "table_types",
                                    "2": "public",
                                    "3": "dbo",
                                    "4": "Grant     ",
                                    "5": "Select",
                                    "6": "(All)"
                                },
                                {
                                    "0": "sys",
                                    "1": "tables",
                                    "2": "public",
                                    "3": "dbo",
                                    "4": "Grant     ",
                                    "5": "Select",
                                    "6": "(All)"
                                },
                                {
                                    "0": "sys",
                                    "1": "time_zone_info",
                                    "2": "public",
                                    "3": "dbo",
                                    "4": "Grant     ",
                                    "5": "Select",
                                    "6": "(All)"
                                },
                                {
                                    "0": "sys",
                                    "1": "transmission_queue",
                                    "2": "public",
                                    "3": "dbo",
                                    "4": "Grant     ",
                                    "5": "Select",
                                    "6": "(All)"
                                },
                                {
                                    "0": "sys",
                                    "1": "trigger_events",
                                    "2": "public",
                                    "3": "dbo",
                                    "4": "Grant     ",
                                    "5": "Select",
                                    "6": "(All)"
                                },
                                {
                                    "0": "sys",
                                    "1": "triggers",
                                    "2": "public",
                                    "3": "dbo",
                                    "4": "Grant     ",
                                    "5": "Select",
                                    "6": "(All)"
                                },
                                {
                                    "0": "sys",
                                    "1": "type_assembly_usages",
                                    "2": "public",
                                    "3": "dbo",
                                    "4": "Grant     ",
                                    "5": "Select",
                                    "6": "(All)"
                                },
                                {
                                    "0": "sys",
                                    "1": "types",
                                    "2": "public",
                                    "3": "dbo",
                                    "4": "Grant     ",
                                    "5": "Select",
                                    "6": "(All)"
                                },
                                {
                                    "0": "sys",
                                    "1": "views",
                                    "2": "public",
                                    "3": "dbo",
                                    "4": "Grant     ",
                                    "5": "Select",
                                    "6": "(All)"
                                },
                                {
                                    "0": "sys",
                                    "1": "xml_indexes",
                                    "2": "public",
                                    "3": "dbo",
                                    "4": "Grant     ",
                                    "5": "Select",
                                    "6": "(All)"
                                },
                                {
                                    "0": "sys",
                                    "1": "xml_schema_attributes",
                                    "2": "public",
                                    "3": "dbo",
                                    "4": "Grant     ",
                                    "5": "Select",
                                    "6": "(All)"
                                },
                                {
                                    "0": "sys",
                                    "1": "xml_schema_collections",
                                    "2": "public",
                                    "3": "dbo",
                                    "4": "Grant     ",
                                    "5": "Select",
                                    "6": "(All)"
                                },
                                {
                                    "0": "sys",
                                    "1": "xml_schema_component_placements",
                                    "2": "public",
                                    "3": "dbo",
                                    "4": "Grant     ",
                                    "5": "Select",
                                    "6": "(All)"
                                },
                                {
                                    "0": "sys",
                                    "1": "xml_schema_components",
                                    "2": "public",
                                    "3": "dbo",
                                    "4": "Grant     ",
                                    "5": "Select",
                                    "6": "(All)"
                                },
                                {
                                    "0": "sys",
                                    "1": "xml_schema_elements",
                                    "2": "public",
                                    "3": "dbo",
                                    "4": "Grant     ",
                                    "5": "Select",
                                    "6": "(All)"
                                },
                                {
                                    "0": "sys",
                                    "1": "xml_schema_facets",
                                    "2": "public",
                                    "3": "dbo",
                                    "4": "Grant     ",
                                    "5": "Select",
                                    "6": "(All)"
                                },
                                {
                                    "0": "sys",
                                    "1": "xml_schema_model_groups",
                                    "2": "public",
                                    "3": "dbo",
                                    "4": "Grant     ",
                                    "5": "Select",
                                    "6": "(All)"
                                },
                                {
                                    "0": "sys",
                                    "1": "xml_schema_namespaces",
                                    "2": "public",
                                    "3": "dbo",
                                    "4": "Grant     ",
                                    "5": "Select",
                                    "6": "(All)"
                                },
                                {
                                    "0": "sys",
                                    "1": "xml_schema_types",
                                    "2": "public",
                                    "3": "dbo",
                                    "4": "Grant     ",
                                    "5": "Select",
                                    "6": "(All)"
                                },
                                {
                                    "0": "sys",
                                    "1": "xml_schema_wildcard_namespaces",
                                    "2": "public",
                                    "3": "dbo",
                                    "4": "Grant     ",
                                    "5": "Select",
                                    "6": "(All)"
                                },
                                {
                                    "0": "sys",
                                    "1": "xml_schema_wildcards",
                                    "2": "public",
                                    "3": "dbo",
                                    "4": "Grant     ",
                                    "5": "Select",
                                    "6": "(All)"
                                },
                                {
                                    "0": ".",
                                    "1": ".",
                                    "2": "dbo",
                                    "3": "dbo",
                                    "4": "Grant     ",
                                    "5": "CONNECT",
                                    "6": "."
                                },
                                {
                                    "0": ".",
                                    "1": ".",
                                    "2": "public",
                                    "3": "dbo",
                                    "4": "Grant     ",
                                    "5": "VIEW ANY COLUMN ENCRYPTION KEY DEFINITION",
                                    "6": "."
                                },
                                {
                                    "0": ".",
                                    "1": ".",
                                    "2": "public",
                                    "3": "dbo",
                                    "4": "Grant     ",
                                    "5": "VIEW ANY COLUMN MASTER KEY DEFINITION",
                                    "6": "."
                                }
                            ]
                        },
                        "text/html": "<table><tr><th>Owner</th><th>Object</th><th>Grantee</th><th>Grantor</th><th>ProtectType</th><th>Action</th><th>Column</th></tr><tr><td>sys</td><td>all_columns</td><td>public</td><td>dbo</td><td>Grant     </td><td>Select</td><td>(All)</td></tr><tr><td>sys</td><td>all_objects</td><td>public</td><td>dbo</td><td>Grant     </td><td>Select</td><td>(All)</td></tr><tr><td>sys</td><td>all_parameters</td><td>public</td><td>dbo</td><td>Grant     </td><td>Select</td><td>(All)</td></tr><tr><td>sys</td><td>all_sql_modules</td><td>public</td><td>dbo</td><td>Grant     </td><td>Select</td><td>(All)</td></tr><tr><td>sys</td><td>all_views</td><td>public</td><td>dbo</td><td>Grant     </td><td>Select</td><td>(All)</td></tr><tr><td>sys</td><td>allocation_units</td><td>public</td><td>dbo</td><td>Grant     </td><td>Select</td><td>(All)</td></tr><tr><td>sys</td><td>assemblies</td><td>public</td><td>dbo</td><td>Grant     </td><td>Select</td><td>(All)</td></tr><tr><td>sys</td><td>assembly_files</td><td>public</td><td>dbo</td><td>Grant     </td><td>Select</td><td>(All)</td></tr><tr><td>sys</td><td>assembly_modules</td><td>public</td><td>dbo</td><td>Grant     </td><td>Select</td><td>(All)</td></tr><tr><td>sys</td><td>assembly_references</td><td>public</td><td>dbo</td><td>Grant     </td><td>Select</td><td>(All)</td></tr><tr><td>sys</td><td>assembly_types</td><td>public</td><td>dbo</td><td>Grant     </td><td>Select</td><td>(All)</td></tr><tr><td>sys</td><td>asymmetric_keys</td><td>public</td><td>dbo</td><td>Grant     </td><td>Select</td><td>(All)</td></tr><tr><td>sys</td><td>certificates</td><td>public</td><td>dbo</td><td>Grant     </td><td>Select</td><td>(All)</td></tr><tr><td>sys</td><td>change_tracking_tables</td><td>public</td><td>dbo</td><td>Grant     </td><td>Select</td><td>(All)</td></tr><tr><td>sys</td><td>check_constraints</td><td>public</td><td>dbo</td><td>Grant     </td><td>Select</td><td>(All)</td></tr><tr><td>sys</td><td>column_encryption_key_values</td><td>public</td><td>dbo</td><td>Grant     </td><td>Select</td><td>(All)</td></tr><tr><td>sys</td><td>column_encryption_keys</td><td>public</td><td>dbo</td><td>Grant     </td><td>Select</td><td>(All)</td></tr><tr><td>sys</td><td>column_master_keys</td><td>public</td><td>dbo</td><td>Grant     </td><td>Select</td><td>(All)</td></tr><tr><td>sys</td><td>column_store_dictionaries</td><td>public</td><td>dbo</td><td>Grant     </td><td>Select</td><td>(All)</td></tr><tr><td>sys</td><td>column_store_row_groups</td><td>public</td><td>dbo</td><td>Grant     </td><td>Select</td><td>(All)</td></tr><tr><td>sys</td><td>column_store_segments</td><td>public</td><td>dbo</td><td>Grant     </td><td>Select</td><td>(All)</td></tr><tr><td>sys</td><td>column_type_usages</td><td>public</td><td>dbo</td><td>Grant     </td><td>Select</td><td>(All)</td></tr><tr><td>sys</td><td>column_xml_schema_collection_usages</td><td>public</td><td>dbo</td><td>Grant     </td><td>Select</td><td>(All)</td></tr><tr><td>sys</td><td>columns</td><td>public</td><td>dbo</td><td>Grant     </td><td>Select</td><td>(All)</td></tr><tr><td>sys</td><td>computed_columns</td><td>public</td><td>dbo</td><td>Grant     </td><td>Select</td><td>(All)</td></tr><tr><td>sys</td><td>conversation_endpoints</td><td>public</td><td>dbo</td><td>Grant     </td><td>Select</td><td>(All)</td></tr><tr><td>sys</td><td>conversation_groups</td><td>public</td><td>dbo</td><td>Grant     </td><td>Select</td><td>(All)</td></tr><tr><td>sys</td><td>conversation_priorities</td><td>public</td><td>dbo</td><td>Grant     </td><td>Select</td><td>(All)</td></tr><tr><td>sys</td><td>crypt_properties</td><td>public</td><td>dbo</td><td>Grant     </td><td>Select</td><td>(All)</td></tr><tr><td>sys</td><td>data_spaces</td><td>public</td><td>dbo</td><td>Grant     </td><td>Select</td><td>(All)</td></tr><tr><td>sys</td><td>database_audit_specification_details</td><td>public</td><td>dbo</td><td>Grant     </td><td>Select</td><td>(All)</td></tr><tr><td>sys</td><td>database_audit_specifications</td><td>public</td><td>dbo</td><td>Grant     </td><td>Select</td><td>(All)</td></tr><tr><td>sys</td><td>database_automatic_tuning_mode</td><td>public</td><td>dbo</td><td>Grant     </td><td>Select</td><td>(All)</td></tr><tr><td>sys</td><td>database_automatic_tuning_options</td><td>public</td><td>dbo</td><td>Grant     </td><td>Select</td><td>(All)</td></tr><tr><td>sys</td><td>database_credentials</td><td>public</td><td>dbo</td><td>Grant     </td><td>Select</td><td>(All)</td></tr><tr><td>sys</td><td>database_files</td><td>public</td><td>dbo</td><td>Grant     </td><td>Select</td><td>(All)</td></tr><tr><td>sys</td><td>database_permissions</td><td>public</td><td>dbo</td><td>Grant     </td><td>Select</td><td>(All)</td></tr><tr><td>sys</td><td>database_principals</td><td>public</td><td>dbo</td><td>Grant     </td><td>Select</td><td>(All)</td></tr><tr><td>sys</td><td>database_role_members</td><td>public</td><td>dbo</td><td>Grant     </td><td>Select</td><td>(All)</td></tr><tr><td>sys</td><td>database_scoped_configurations</td><td>public</td><td>dbo</td><td>Grant     </td><td>Select</td><td>(All)</td></tr><tr><td>sys</td><td>database_scoped_credentials</td><td>public</td><td>dbo</td><td>Grant     </td><td>Select</td><td>(All)</td></tr><tr><td>sys</td><td>default_constraints</td><td>public</td><td>dbo</td><td>Grant     </td><td>Select</td><td>(All)</td></tr><tr><td>sys</td><td>destination_data_spaces</td><td>public</td><td>dbo</td><td>Grant     </td><td>Select</td><td>(All)</td></tr><tr><td>sys</td><td>dm_db_column_store_row_group_physical_stats</td><td>public</td><td>dbo</td><td>Grant     </td><td>Select</td><td>(All)</td></tr><tr><td>sys</td><td>event_notifications</td><td>public</td><td>dbo</td><td>Grant     </td><td>Select</td><td>(All)</td></tr><tr><td>sys</td><td>events</td><td>public</td><td>dbo</td><td>Grant     </td><td>Select</td><td>(All)</td></tr><tr><td>sys</td><td>extended_procedures</td><td>public</td><td>dbo</td><td>Grant     </td><td>Select</td><td>(All)</td></tr><tr><td>sys</td><td>extended_properties</td><td>public</td><td>dbo</td><td>Grant     </td><td>Select</td><td>(All)</td></tr><tr><td>sys</td><td>external_data_sources</td><td>public</td><td>dbo</td><td>Grant     </td><td>Select</td><td>(All)</td></tr><tr><td>sys</td><td>external_file_formats</td><td>public</td><td>dbo</td><td>Grant     </td><td>Select</td><td>(All)</td></tr><tr><td>sys</td><td>external_libraries</td><td>public</td><td>dbo</td><td>Grant     </td><td>Select</td><td>(All)</td></tr><tr><td>sys</td><td>external_library_files</td><td>public</td><td>dbo</td><td>Grant     </td><td>Select</td><td>(All)</td></tr><tr><td>sys</td><td>external_tables</td><td>public</td><td>dbo</td><td>Grant     </td><td>Select</td><td>(All)</td></tr><tr><td>sys</td><td>filegroups</td><td>public</td><td>dbo</td><td>Grant     </td><td>Select</td><td>(All)</td></tr><tr><td>sys</td><td>filetable_system_defined_objects</td><td>public</td><td>dbo</td><td>Grant     </td><td>Select</td><td>(All)</td></tr><tr><td>sys</td><td>filetables</td><td>public</td><td>dbo</td><td>Grant     </td><td>Select</td><td>(All)</td></tr><tr><td>sys</td><td>foreign_key_columns</td><td>public</td><td>dbo</td><td>Grant     </td><td>Select</td><td>(All)</td></tr><tr><td>sys</td><td>foreign_keys</td><td>public</td><td>dbo</td><td>Grant     </td><td>Select</td><td>(All)</td></tr><tr><td>sys</td><td>fulltext_catalogs</td><td>public</td><td>dbo</td><td>Grant     </td><td>Select</td><td>(All)</td></tr><tr><td>sys</td><td>fulltext_index_catalog_usages</td><td>public</td><td>dbo</td><td>Grant     </td><td>Select</td><td>(All)</td></tr><tr><td>sys</td><td>fulltext_index_columns</td><td>public</td><td>dbo</td><td>Grant     </td><td>Select</td><td>(All)</td></tr><tr><td>sys</td><td>fulltext_index_fragments</td><td>public</td><td>dbo</td><td>Grant     </td><td>Select</td><td>(All)</td></tr><tr><td>sys</td><td>fulltext_indexes</td><td>public</td><td>dbo</td><td>Grant     </td><td>Select</td><td>(All)</td></tr><tr><td>sys</td><td>fulltext_stoplists</td><td>public</td><td>dbo</td><td>Grant     </td><td>Select</td><td>(All)</td></tr><tr><td>sys</td><td>fulltext_stopwords</td><td>public</td><td>dbo</td><td>Grant     </td><td>Select</td><td>(All)</td></tr><tr><td>sys</td><td>function_order_columns</td><td>public</td><td>dbo</td><td>Grant     </td><td>Select</td><td>(All)</td></tr><tr><td>sys</td><td>hash_indexes</td><td>public</td><td>dbo</td><td>Grant     </td><td>Select</td><td>(All)</td></tr><tr><td>sys</td><td>identity_columns</td><td>public</td><td>dbo</td><td>Grant     </td><td>Select</td><td>(All)</td></tr><tr><td>sys</td><td>index_columns</td><td>public</td><td>dbo</td><td>Grant     </td><td>Select</td><td>(All)</td></tr><tr><td>sys</td><td>index_resumable_operations</td><td>public</td><td>dbo</td><td>Grant     </td><td>Select</td><td>(All)</td></tr><tr><td>sys</td><td>indexes</td><td>public</td><td>dbo</td><td>Grant     </td><td>Select</td><td>(All)</td></tr><tr><td>sys</td><td>internal_partitions</td><td>public</td><td>dbo</td><td>Grant     </td><td>Select</td><td>(All)</td></tr><tr><td>sys</td><td>internal_tables</td><td>public</td><td>dbo</td><td>Grant     </td><td>Select</td><td>(All)</td></tr><tr><td>sys</td><td>key_constraints</td><td>public</td><td>dbo</td><td>Grant     </td><td>Select</td><td>(All)</td></tr><tr><td>sys</td><td>key_encryptions</td><td>public</td><td>dbo</td><td>Grant     </td><td>Select</td><td>(All)</td></tr><tr><td>sys</td><td>masked_columns</td><td>public</td><td>dbo</td><td>Grant     </td><td>Select</td><td>(All)</td></tr><tr><td>sys</td><td>memory_optimized_tables_internal_attributes</td><td>public</td><td>dbo</td><td>Grant     </td><td>Select</td><td>(All)</td></tr><tr><td>sys</td><td>message_type_xml_schema_collection_usages</td><td>public</td><td>dbo</td><td>Grant     </td><td>Select</td><td>(All)</td></tr><tr><td>sys</td><td>module_assembly_usages</td><td>public</td><td>dbo</td><td>Grant     </td><td>Select</td><td>(All)</td></tr><tr><td>sys</td><td>numbered_procedure_parameters</td><td>public</td><td>dbo</td><td>Grant     </td><td>Select</td><td>(All)</td></tr><tr><td>sys</td><td>numbered_procedures</td><td>public</td><td>dbo</td><td>Grant     </td><td>Select</td><td>(All)</td></tr><tr><td>sys</td><td>objects</td><td>public</td><td>dbo</td><td>Grant     </td><td>Select</td><td>(All)</td></tr><tr><td>sys</td><td>parameter_type_usages</td><td>public</td><td>dbo</td><td>Grant     </td><td>Select</td><td>(All)</td></tr><tr><td>sys</td><td>parameter_xml_schema_collection_usages</td><td>public</td><td>dbo</td><td>Grant     </td><td>Select</td><td>(All)</td></tr><tr><td>sys</td><td>parameters</td><td>public</td><td>dbo</td><td>Grant     </td><td>Select</td><td>(All)</td></tr><tr><td>sys</td><td>partition_functions</td><td>public</td><td>dbo</td><td>Grant     </td><td>Select</td><td>(All)</td></tr><tr><td>sys</td><td>partition_parameters</td><td>public</td><td>dbo</td><td>Grant     </td><td>Select</td><td>(All)</td></tr><tr><td>sys</td><td>partition_range_values</td><td>public</td><td>dbo</td><td>Grant     </td><td>Select</td><td>(All)</td></tr><tr><td>sys</td><td>partition_schemes</td><td>public</td><td>dbo</td><td>Grant     </td><td>Select</td><td>(All)</td></tr><tr><td>sys</td><td>partitions</td><td>public</td><td>dbo</td><td>Grant     </td><td>Select</td><td>(All)</td></tr><tr><td>sys</td><td>periods</td><td>public</td><td>dbo</td><td>Grant     </td><td>Select</td><td>(All)</td></tr><tr><td>sys</td><td>plan_guides</td><td>public</td><td>dbo</td><td>Grant     </td><td>Select</td><td>(All)</td></tr><tr><td>sys</td><td>procedures</td><td>public</td><td>dbo</td><td>Grant     </td><td>Select</td><td>(All)</td></tr><tr><td>sys</td><td>query_context_settings</td><td>public</td><td>dbo</td><td>Grant     </td><td>Select</td><td>(All)</td></tr><tr><td>sys</td><td>query_store_plan</td><td>public</td><td>dbo</td><td>Grant     </td><td>Select</td><td>(All)</td></tr><tr><td>sys</td><td>query_store_query</td><td>public</td><td>dbo</td><td>Grant     </td><td>Select</td><td>(All)</td></tr><tr><td>sys</td><td>query_store_query_text</td><td>public</td><td>dbo</td><td>Grant     </td><td>Select</td><td>(All)</td></tr><tr><td>sys</td><td>query_store_runtime_stats</td><td>public</td><td>dbo</td><td>Grant     </td><td>Select</td><td>(All)</td></tr><tr><td>sys</td><td>query_store_runtime_stats_interval</td><td>public</td><td>dbo</td><td>Grant     </td><td>Select</td><td>(All)</td></tr><tr><td>sys</td><td>query_store_wait_stats</td><td>public</td><td>dbo</td><td>Grant     </td><td>Select</td><td>(All)</td></tr><tr><td>sys</td><td>registered_search_properties</td><td>public</td><td>dbo</td><td>Grant     </td><td>Select</td><td>(All)</td></tr><tr><td>sys</td><td>registered_search_property_lists</td><td>public</td><td>dbo</td><td>Grant     </td><td>Select</td><td>(All)</td></tr><tr><td>sys</td><td>remote_data_archive_databases</td><td>public</td><td>dbo</td><td>Grant     </td><td>Select</td><td>(All)</td></tr><tr><td>sys</td><td>remote_data_archive_tables</td><td>public</td><td>dbo</td><td>Grant     </td><td>Select</td><td>(All)</td></tr><tr><td>sys</td><td>remote_service_bindings</td><td>public</td><td>dbo</td><td>Grant     </td><td>Select</td><td>(All)</td></tr><tr><td>sys</td><td>routes</td><td>public</td><td>dbo</td><td>Grant     </td><td>Select</td><td>(All)</td></tr><tr><td>sys</td><td>schemas</td><td>public</td><td>dbo</td><td>Grant     </td><td>Select</td><td>(All)</td></tr><tr><td>sys</td><td>security_policies</td><td>public</td><td>dbo</td><td>Grant     </td><td>Select</td><td>(All)</td></tr><tr><td>sys</td><td>security_predicates</td><td>public</td><td>dbo</td><td>Grant     </td><td>Select</td><td>(All)</td></tr><tr><td>sys</td><td>selective_xml_index_namespaces</td><td>public</td><td>dbo</td><td>Grant     </td><td>Select</td><td>(All)</td></tr><tr><td>sys</td><td>selective_xml_index_paths</td><td>public</td><td>dbo</td><td>Grant     </td><td>Select</td><td>(All)</td></tr><tr><td>sys</td><td>sequences</td><td>public</td><td>dbo</td><td>Grant     </td><td>Select</td><td>(All)</td></tr><tr><td>sys</td><td>service_contract_message_usages</td><td>public</td><td>dbo</td><td>Grant     </td><td>Select</td><td>(All)</td></tr><tr><td>sys</td><td>service_contract_usages</td><td>public</td><td>dbo</td><td>Grant     </td><td>Select</td><td>(All)</td></tr><tr><td>sys</td><td>service_contracts</td><td>public</td><td>dbo</td><td>Grant     </td><td>Select</td><td>(All)</td></tr><tr><td>sys</td><td>service_message_types</td><td>public</td><td>dbo</td><td>Grant     </td><td>Select</td><td>(All)</td></tr><tr><td>sys</td><td>service_queue_usages</td><td>public</td><td>dbo</td><td>Grant     </td><td>Select</td><td>(All)</td></tr><tr><td>sys</td><td>service_queues</td><td>public</td><td>dbo</td><td>Grant     </td><td>Select</td><td>(All)</td></tr><tr><td>sys</td><td>services</td><td>public</td><td>dbo</td><td>Grant     </td><td>Select</td><td>(All)</td></tr><tr><td>sys</td><td>spatial_index_tessellations</td><td>public</td><td>dbo</td><td>Grant     </td><td>Select</td><td>(All)</td></tr><tr><td>sys</td><td>spatial_indexes</td><td>public</td><td>dbo</td><td>Grant     </td><td>Select</td><td>(All)</td></tr><tr><td>sys</td><td>sql_dependencies</td><td>public</td><td>dbo</td><td>Grant     </td><td>Select</td><td>(All)</td></tr><tr><td>sys</td><td>sql_modules</td><td>public</td><td>dbo</td><td>Grant     </td><td>Select</td><td>(All)</td></tr><tr><td>sys</td><td>stats</td><td>public</td><td>dbo</td><td>Grant     </td><td>Select</td><td>(All)</td></tr><tr><td>sys</td><td>stats_columns</td><td>public</td><td>dbo</td><td>Grant     </td><td>Select</td><td>(All)</td></tr><tr><td>sys</td><td>symmetric_keys</td><td>public</td><td>dbo</td><td>Grant     </td><td>Select</td><td>(All)</td></tr><tr><td>sys</td><td>synonyms</td><td>public</td><td>dbo</td><td>Grant     </td><td>Select</td><td>(All)</td></tr><tr><td>sys</td><td>syscolumns</td><td>public</td><td>dbo</td><td>Grant     </td><td>Select</td><td>(All)</td></tr><tr><td>sys</td><td>syscomments</td><td>public</td><td>dbo</td><td>Grant     </td><td>Select</td><td>(All)</td></tr><tr><td>sys</td><td>sysconstraints</td><td>public</td><td>dbo</td><td>Grant     </td><td>Select</td><td>(All)</td></tr><tr><td>sys</td><td>sysdepends</td><td>public</td><td>dbo</td><td>Grant     </td><td>Select</td><td>(All)</td></tr><tr><td>sys</td><td>sysfilegroups</td><td>public</td><td>dbo</td><td>Grant     </td><td>Select</td><td>(All)</td></tr><tr><td>sys</td><td>sysfiles</td><td>public</td><td>dbo</td><td>Grant     </td><td>Select</td><td>(All)</td></tr><tr><td>sys</td><td>sysforeignkeys</td><td>public</td><td>dbo</td><td>Grant     </td><td>Select</td><td>(All)</td></tr><tr><td>sys</td><td>sysfulltextcatalogs</td><td>public</td><td>dbo</td><td>Grant     </td><td>Select</td><td>(All)</td></tr><tr><td>sys</td><td>sysindexes</td><td>public</td><td>dbo</td><td>Grant     </td><td>Select</td><td>(All)</td></tr><tr><td>sys</td><td>sysindexkeys</td><td>public</td><td>dbo</td><td>Grant     </td><td>Select</td><td>(All)</td></tr><tr><td>sys</td><td>sysmembers</td><td>public</td><td>dbo</td><td>Grant     </td><td>Select</td><td>(All)</td></tr><tr><td>sys</td><td>sysobjects</td><td>public</td><td>dbo</td><td>Grant     </td><td>Select</td><td>(All)</td></tr><tr><td>sys</td><td>syspermissions</td><td>public</td><td>dbo</td><td>Grant     </td><td>Select</td><td>(All)</td></tr><tr><td>sys</td><td>sysprotects</td><td>public</td><td>dbo</td><td>Grant     </td><td>Select</td><td>(All)</td></tr><tr><td>sys</td><td>sysreferences</td><td>public</td><td>dbo</td><td>Grant     </td><td>Select</td><td>(All)</td></tr><tr><td>sys</td><td>system_columns</td><td>public</td><td>dbo</td><td>Grant     </td><td>Select</td><td>(All)</td></tr><tr><td>sys</td><td>system_objects</td><td>public</td><td>dbo</td><td>Grant     </td><td>Select</td><td>(All)</td></tr><tr><td>sys</td><td>system_parameters</td><td>public</td><td>dbo</td><td>Grant     </td><td>Select</td><td>(All)</td></tr><tr><td>sys</td><td>system_sql_modules</td><td>public</td><td>dbo</td><td>Grant     </td><td>Select</td><td>(All)</td></tr><tr><td>sys</td><td>system_views</td><td>public</td><td>dbo</td><td>Grant     </td><td>Select</td><td>(All)</td></tr><tr><td>sys</td><td>systypes</td><td>public</td><td>dbo</td><td>Grant     </td><td>Select</td><td>(All)</td></tr><tr><td>sys</td><td>sysusers</td><td>public</td><td>dbo</td><td>Grant     </td><td>Select</td><td>(All)</td></tr><tr><td>sys</td><td>table_types</td><td>public</td><td>dbo</td><td>Grant     </td><td>Select</td><td>(All)</td></tr><tr><td>sys</td><td>tables</td><td>public</td><td>dbo</td><td>Grant     </td><td>Select</td><td>(All)</td></tr><tr><td>sys</td><td>time_zone_info</td><td>public</td><td>dbo</td><td>Grant     </td><td>Select</td><td>(All)</td></tr><tr><td>sys</td><td>transmission_queue</td><td>public</td><td>dbo</td><td>Grant     </td><td>Select</td><td>(All)</td></tr><tr><td>sys</td><td>trigger_events</td><td>public</td><td>dbo</td><td>Grant     </td><td>Select</td><td>(All)</td></tr><tr><td>sys</td><td>triggers</td><td>public</td><td>dbo</td><td>Grant     </td><td>Select</td><td>(All)</td></tr><tr><td>sys</td><td>type_assembly_usages</td><td>public</td><td>dbo</td><td>Grant     </td><td>Select</td><td>(All)</td></tr><tr><td>sys</td><td>types</td><td>public</td><td>dbo</td><td>Grant     </td><td>Select</td><td>(All)</td></tr><tr><td>sys</td><td>views</td><td>public</td><td>dbo</td><td>Grant     </td><td>Select</td><td>(All)</td></tr><tr><td>sys</td><td>xml_indexes</td><td>public</td><td>dbo</td><td>Grant     </td><td>Select</td><td>(All)</td></tr><tr><td>sys</td><td>xml_schema_attributes</td><td>public</td><td>dbo</td><td>Grant     </td><td>Select</td><td>(All)</td></tr><tr><td>sys</td><td>xml_schema_collections</td><td>public</td><td>dbo</td><td>Grant     </td><td>Select</td><td>(All)</td></tr><tr><td>sys</td><td>xml_schema_component_placements</td><td>public</td><td>dbo</td><td>Grant     </td><td>Select</td><td>(All)</td></tr><tr><td>sys</td><td>xml_schema_components</td><td>public</td><td>dbo</td><td>Grant     </td><td>Select</td><td>(All)</td></tr><tr><td>sys</td><td>xml_schema_elements</td><td>public</td><td>dbo</td><td>Grant     </td><td>Select</td><td>(All)</td></tr><tr><td>sys</td><td>xml_schema_facets</td><td>public</td><td>dbo</td><td>Grant     </td><td>Select</td><td>(All)</td></tr><tr><td>sys</td><td>xml_schema_model_groups</td><td>public</td><td>dbo</td><td>Grant     </td><td>Select</td><td>(All)</td></tr><tr><td>sys</td><td>xml_schema_namespaces</td><td>public</td><td>dbo</td><td>Grant     </td><td>Select</td><td>(All)</td></tr><tr><td>sys</td><td>xml_schema_types</td><td>public</td><td>dbo</td><td>Grant     </td><td>Select</td><td>(All)</td></tr><tr><td>sys</td><td>xml_schema_wildcard_namespaces</td><td>public</td><td>dbo</td><td>Grant     </td><td>Select</td><td>(All)</td></tr><tr><td>sys</td><td>xml_schema_wildcards</td><td>public</td><td>dbo</td><td>Grant     </td><td>Select</td><td>(All)</td></tr><tr><td>.</td><td>.</td><td>dbo</td><td>dbo</td><td>Grant     </td><td>CONNECT</td><td>.</td></tr><tr><td>.</td><td>.</td><td>public</td><td>dbo</td><td>Grant     </td><td>VIEW ANY COLUMN ENCRYPTION KEY DEFINITION</td><td>.</td></tr><tr><td>.</td><td>.</td><td>public</td><td>dbo</td><td>Grant     </td><td>VIEW ANY COLUMN MASTER KEY DEFINITION</td><td>.</td></tr></table>"
                    }
                }
            ],
            "execution_count": 31
        },
        {
            "cell_type": "code",
            "source": [
                "EXEC sp_helprole"
            ],
            "metadata": {
                "azdata_cell_guid": "9353373f-274f-4481-a965-55feefb4379e"
            },
            "outputs": [
                {
                    "output_type": "display_data",
                    "data": {
                        "text/html": "(10 rows affected)"
                    },
                    "metadata": {}
                },
                {
                    "output_type": "display_data",
                    "data": {
                        "text/html": "Total execution time: 00:00:00.013"
                    },
                    "metadata": {}
                },
                {
                    "output_type": "execute_result",
                    "metadata": {},
                    "execution_count": 32,
                    "data": {
                        "application/vnd.dataresource+json": {
                            "schema": {
                                "fields": [
                                    {
                                        "name": "RoleName"
                                    },
                                    {
                                        "name": "RoleId"
                                    },
                                    {
                                        "name": "IsAppRole"
                                    }
                                ]
                            },
                            "data": [
                                {
                                    "0": "public",
                                    "1": "0",
                                    "2": "0"
                                },
                                {
                                    "0": "db_owner",
                                    "1": "16384",
                                    "2": "0"
                                },
                                {
                                    "0": "db_accessadmin",
                                    "1": "16385",
                                    "2": "0"
                                },
                                {
                                    "0": "db_securityadmin",
                                    "1": "16386",
                                    "2": "0"
                                },
                                {
                                    "0": "db_ddladmin",
                                    "1": "16387",
                                    "2": "0"
                                },
                                {
                                    "0": "db_backupoperator",
                                    "1": "16389",
                                    "2": "0"
                                },
                                {
                                    "0": "db_datareader",
                                    "1": "16390",
                                    "2": "0"
                                },
                                {
                                    "0": "db_datawriter",
                                    "1": "16391",
                                    "2": "0"
                                },
                                {
                                    "0": "db_denydatareader",
                                    "1": "16392",
                                    "2": "0"
                                },
                                {
                                    "0": "db_denydatawriter",
                                    "1": "16393",
                                    "2": "0"
                                }
                            ]
                        },
                        "text/html": "<table><tr><th>RoleName</th><th>RoleId</th><th>IsAppRole</th></tr><tr><td>public</td><td>0</td><td>0</td></tr><tr><td>db_owner</td><td>16384</td><td>0</td></tr><tr><td>db_accessadmin</td><td>16385</td><td>0</td></tr><tr><td>db_securityadmin</td><td>16386</td><td>0</td></tr><tr><td>db_ddladmin</td><td>16387</td><td>0</td></tr><tr><td>db_backupoperator</td><td>16389</td><td>0</td></tr><tr><td>db_datareader</td><td>16390</td><td>0</td></tr><tr><td>db_datawriter</td><td>16391</td><td>0</td></tr><tr><td>db_denydatareader</td><td>16392</td><td>0</td></tr><tr><td>db_denydatawriter</td><td>16393</td><td>0</td></tr></table>"
                    }
                }
            ],
            "execution_count": 32
        },
        {
            "cell_type": "code",
            "source": [
                "EXEC sp_helprolemember"
            ],
            "metadata": {
                "azdata_cell_guid": "a4d9ecbf-0683-4a25-9bc6-57925b39a4dd"
            },
            "outputs": [
                {
                    "output_type": "display_data",
                    "data": {
                        "text/html": "(1 row affected)"
                    },
                    "metadata": {}
                },
                {
                    "output_type": "display_data",
                    "data": {
                        "text/html": "Total execution time: 00:00:00.011"
                    },
                    "metadata": {}
                },
                {
                    "output_type": "execute_result",
                    "metadata": {},
                    "execution_count": 33,
                    "data": {
                        "application/vnd.dataresource+json": {
                            "schema": {
                                "fields": [
                                    {
                                        "name": "DbRole"
                                    },
                                    {
                                        "name": "MemberName"
                                    },
                                    {
                                        "name": "MemberSID"
                                    }
                                ]
                            },
                            "data": [
                                {
                                    "0": "db_owner",
                                    "1": "dbo",
                                    "2": "0x01"
                                }
                            ]
                        },
                        "text/html": "<table><tr><th>DbRole</th><th>MemberName</th><th>MemberSID</th></tr><tr><td>db_owner</td><td>dbo</td><td>0x01</td></tr></table>"
                    }
                }
            ],
            "execution_count": 33
        },
        {
            "cell_type": "code",
            "source": [
                "EXEC sp_helpsrvrole"
            ],
            "metadata": {
                "azdata_cell_guid": "5a46e134-acfe-4e0a-980a-d61fdfc417e1"
            },
            "outputs": [
                {
                    "output_type": "display_data",
                    "data": {
                        "text/html": "(8 rows affected)"
                    },
                    "metadata": {}
                },
                {
                    "output_type": "display_data",
                    "data": {
                        "text/html": "Total execution time: 00:00:00.004"
                    },
                    "metadata": {}
                },
                {
                    "output_type": "execute_result",
                    "metadata": {},
                    "execution_count": 34,
                    "data": {
                        "application/vnd.dataresource+json": {
                            "schema": {
                                "fields": [
                                    {
                                        "name": "ServerRole"
                                    },
                                    {
                                        "name": "Description"
                                    }
                                ]
                            },
                            "data": [
                                {
                                    "0": "sysadmin",
                                    "1": "System Administrators"
                                },
                                {
                                    "0": "securityadmin",
                                    "1": "Security Administrators"
                                },
                                {
                                    "0": "serveradmin",
                                    "1": "Server Administrators"
                                },
                                {
                                    "0": "setupadmin",
                                    "1": "Setup Administrators"
                                },
                                {
                                    "0": "processadmin",
                                    "1": "Process Administrators"
                                },
                                {
                                    "0": "diskadmin",
                                    "1": "Disk Administrators"
                                },
                                {
                                    "0": "dbcreator",
                                    "1": "Database Creators"
                                },
                                {
                                    "0": "bulkadmin",
                                    "1": "Bulk Insert Administrators"
                                }
                            ]
                        },
                        "text/html": "<table><tr><th>ServerRole</th><th>Description</th></tr><tr><td>sysadmin</td><td>System Administrators</td></tr><tr><td>securityadmin</td><td>Security Administrators</td></tr><tr><td>serveradmin</td><td>Server Administrators</td></tr><tr><td>setupadmin</td><td>Setup Administrators</td></tr><tr><td>processadmin</td><td>Process Administrators</td></tr><tr><td>diskadmin</td><td>Disk Administrators</td></tr><tr><td>dbcreator</td><td>Database Creators</td></tr><tr><td>bulkadmin</td><td>Bulk Insert Administrators</td></tr></table>"
                    }
                }
            ],
            "execution_count": 34
        },
        {
            "cell_type": "code",
            "source": [
                "EXEC sp_helpsrvrolemember"
            ],
            "metadata": {
                "azdata_cell_guid": "91d0c055-a06a-41d3-8bcc-e3830a52dcca"
            },
            "outputs": [
                {
                    "output_type": "display_data",
                    "data": {
                        "text/html": "(3 rows affected)"
                    },
                    "metadata": {}
                },
                {
                    "output_type": "display_data",
                    "data": {
                        "text/html": "Total execution time: 00:00:00.011"
                    },
                    "metadata": {}
                },
                {
                    "output_type": "execute_result",
                    "metadata": {},
                    "execution_count": 35,
                    "data": {
                        "application/vnd.dataresource+json": {
                            "schema": {
                                "fields": [
                                    {
                                        "name": "ServerRole"
                                    },
                                    {
                                        "name": "MemberName"
                                    },
                                    {
                                        "name": "MemberSID"
                                    }
                                ]
                            },
                            "data": [
                                {
                                    "0": "sysadmin",
                                    "1": "sa",
                                    "2": "0x01"
                                },
                                {
                                    "0": "sysadmin",
                                    "1": "BUILTIN\\Administrators",
                                    "2": "0x01020000000000052000000020020000"
                                },
                                {
                                    "0": "sysadmin",
                                    "1": "NT AUTHORITY\\NETWORK SERVICE",
                                    "2": "0x010100000000000514000000"
                                }
                            ]
                        },
                        "text/html": "<table><tr><th>ServerRole</th><th>MemberName</th><th>MemberSID</th></tr><tr><td>sysadmin</td><td>sa</td><td>0x01</td></tr><tr><td>sysadmin</td><td>BUILTIN\\Administrators</td><td>0x01020000000000052000000020020000</td></tr><tr><td>sysadmin</td><td>NT AUTHORITY\\NETWORK SERVICE</td><td>0x010100000000000514000000</td></tr></table>"
                    }
                }
            ],
            "execution_count": 35
        },
        {
            "cell_type": "code",
            "source": [
                "EXEC sp_helpdbfixedrole"
            ],
            "metadata": {
                "azdata_cell_guid": "f3c731ec-3785-4711-9dd6-f64f6d0235ab"
            },
            "outputs": [
                {
                    "output_type": "display_data",
                    "data": {
                        "text/html": "(9 rows affected)"
                    },
                    "metadata": {}
                },
                {
                    "output_type": "display_data",
                    "data": {
                        "text/html": "Total execution time: 00:00:00.005"
                    },
                    "metadata": {}
                },
                {
                    "output_type": "execute_result",
                    "metadata": {},
                    "execution_count": 36,
                    "data": {
                        "application/vnd.dataresource+json": {
                            "schema": {
                                "fields": [
                                    {
                                        "name": "DbFixedRole"
                                    },
                                    {
                                        "name": "Description"
                                    }
                                ]
                            },
                            "data": [
                                {
                                    "0": "db_owner",
                                    "1": "DB Owners"
                                },
                                {
                                    "0": "db_accessadmin",
                                    "1": "DB Access Administrators"
                                },
                                {
                                    "0": "db_securityadmin",
                                    "1": "DB Security Administrators"
                                },
                                {
                                    "0": "db_ddladmin",
                                    "1": "DB DDL Administrators"
                                },
                                {
                                    "0": "db_backupoperator",
                                    "1": "DB Backup Operator"
                                },
                                {
                                    "0": "db_datareader",
                                    "1": "DB Data Reader"
                                },
                                {
                                    "0": "db_datawriter",
                                    "1": "DB Data Writer"
                                },
                                {
                                    "0": "db_denydatareader",
                                    "1": "DB Deny Data Reader"
                                },
                                {
                                    "0": "db_denydatawriter",
                                    "1": "DB Deny Data Writer"
                                }
                            ]
                        },
                        "text/html": "<table><tr><th>DbFixedRole</th><th>Description</th></tr><tr><td>db_owner</td><td>DB Owners</td></tr><tr><td>db_accessadmin</td><td>DB Access Administrators</td></tr><tr><td>db_securityadmin</td><td>DB Security Administrators</td></tr><tr><td>db_ddladmin</td><td>DB DDL Administrators</td></tr><tr><td>db_backupoperator</td><td>DB Backup Operator</td></tr><tr><td>db_datareader</td><td>DB Data Reader</td></tr><tr><td>db_datawriter</td><td>DB Data Writer</td></tr><tr><td>db_denydatareader</td><td>DB Deny Data Reader</td></tr><tr><td>db_denydatawriter</td><td>DB Deny Data Writer</td></tr></table>"
                    }
                }
            ],
            "execution_count": 36
        },
        {
            "cell_type": "code",
            "source": [
                "EXEC sp_helplogins"
            ],
            "metadata": {
                "azdata_cell_guid": "cc13cec7-a74b-4e9e-8cbe-27ae296a4f95"
            },
            "outputs": [
                {
                    "output_type": "display_data",
                    "data": {
                        "text/html": "(13 rows affected)"
                    },
                    "metadata": {}
                },
                {
                    "output_type": "display_data",
                    "data": {
                        "text/html": "(16 rows affected)"
                    },
                    "metadata": {}
                },
                {
                    "output_type": "display_data",
                    "data": {
                        "text/html": "Total execution time: 00:00:00.145"
                    },
                    "metadata": {}
                },
                {
                    "output_type": "execute_result",
                    "metadata": {},
                    "execution_count": 37,
                    "data": {
                        "application/vnd.dataresource+json": {
                            "schema": {
                                "fields": [
                                    {
                                        "name": "LoginName"
                                    },
                                    {
                                        "name": "SID"
                                    },
                                    {
                                        "name": "DefDBName"
                                    },
                                    {
                                        "name": "DefLangName"
                                    },
                                    {
                                        "name": "AUser"
                                    },
                                    {
                                        "name": "ARemote"
                                    }
                                ]
                            },
                            "data": [
                                {
                                    "0": "##MS_AgentSigningCertificate##",
                                    "1": "0x010600000000000901000000527B762B68DF7BE68B21A249CA7BEEFB0F7E2F53",
                                    "2": "master",
                                    "3": "us_english",
                                    "4": "yes  ",
                                    "5": "no     "
                                },
                                {
                                    "0": "##MS_PolicyEventProcessingLogin##",
                                    "1": "0x208CE5BB3AA8E44D8278673F69D56EA2",
                                    "2": "master",
                                    "3": "us_english",
                                    "4": "yes  ",
                                    "5": "no     "
                                },
                                {
                                    "0": "##MS_PolicySigningCertificate##",
                                    "1": "0x010600000000000901000000631C40E8101B5A72CD3B5AF5939B0F116AF88773",
                                    "2": "master",
                                    "3": "NULL",
                                    "4": "NO   ",
                                    "5": "no     "
                                },
                                {
                                    "0": "##MS_PolicyTsqlExecutionLogin##",
                                    "1": "0xC6E19D03118FFC458B26BF98341B417A",
                                    "2": "master",
                                    "3": "us_english",
                                    "4": "yes  ",
                                    "5": "no     "
                                },
                                {
                                    "0": "##MS_SmoExtendedSigningCertificate##",
                                    "1": "0x010600000000000901000000BEAD06C22243CCEABDDEDAA5BF38478F9556C8C3",
                                    "2": "master",
                                    "3": "NULL",
                                    "4": "NO   ",
                                    "5": "no     "
                                },
                                {
                                    "0": "##MS_SQLAuthenticatorCertificate##",
                                    "1": "0x0106000000000009010000002D4D72E807F898D764E46E5C899D7F69D9385830",
                                    "2": "master",
                                    "3": "NULL",
                                    "4": "NO   ",
                                    "5": "no     "
                                },
                                {
                                    "0": "##MS_SQLReplicationSigningCertificate##",
                                    "1": "0x010600000000000901000000C971B5A30B4C1D9491870627D8DD506DEF9E3149",
                                    "2": "master",
                                    "3": "NULL",
                                    "4": "NO   ",
                                    "5": "no     "
                                },
                                {
                                    "0": "##MS_SQLResourceSigningCertificate##",
                                    "1": "0x010600000000000901000000296A8BE7879F5A145027EAD036D9EE115A4B723E",
                                    "2": "master",
                                    "3": "NULL",
                                    "4": "NO   ",
                                    "5": "no     "
                                },
                                {
                                    "0": "BUILTIN\\Administrators",
                                    "1": "0x01020000000000052000000020020000",
                                    "2": "master",
                                    "3": "us_english",
                                    "4": "NO   ",
                                    "5": "no     "
                                },
                                {
                                    "0": "NT AUTHORITY\\NETWORK SERVICE",
                                    "1": "0x010100000000000514000000",
                                    "2": "master",
                                    "3": "us_english",
                                    "4": "NO   ",
                                    "5": "no     "
                                },
                                {
                                    "0": "NT AUTHORITY\\SYSTEM",
                                    "1": "0x010100000000000512000000",
                                    "2": "master",
                                    "3": "us_english",
                                    "4": "NO   ",
                                    "5": "no     "
                                },
                                {
                                    "0": "sa",
                                    "1": "0x01",
                                    "2": "master",
                                    "3": "us_english",
                                    "4": "yes  ",
                                    "5": "no     "
                                },
                                {
                                    "0": "tisApp",
                                    "1": "0x705674EC976A4F4081159679B6B24917",
                                    "2": "master",
                                    "3": "us_english",
                                    "4": "NO   ",
                                    "5": "no     "
                                }
                            ]
                        },
                        "text/html": "<table><tr><th>LoginName</th><th>SID</th><th>DefDBName</th><th>DefLangName</th><th>AUser</th><th>ARemote</th></tr><tr><td>##MS_AgentSigningCertificate##</td><td>0x010600000000000901000000527B762B68DF7BE68B21A249CA7BEEFB0F7E2F53</td><td>master</td><td>us_english</td><td>yes  </td><td>no     </td></tr><tr><td>##MS_PolicyEventProcessingLogin##</td><td>0x208CE5BB3AA8E44D8278673F69D56EA2</td><td>master</td><td>us_english</td><td>yes  </td><td>no     </td></tr><tr><td>##MS_PolicySigningCertificate##</td><td>0x010600000000000901000000631C40E8101B5A72CD3B5AF5939B0F116AF88773</td><td>master</td><td>NULL</td><td>NO   </td><td>no     </td></tr><tr><td>##MS_PolicyTsqlExecutionLogin##</td><td>0xC6E19D03118FFC458B26BF98341B417A</td><td>master</td><td>us_english</td><td>yes  </td><td>no     </td></tr><tr><td>##MS_SmoExtendedSigningCertificate##</td><td>0x010600000000000901000000BEAD06C22243CCEABDDEDAA5BF38478F9556C8C3</td><td>master</td><td>NULL</td><td>NO   </td><td>no     </td></tr><tr><td>##MS_SQLAuthenticatorCertificate##</td><td>0x0106000000000009010000002D4D72E807F898D764E46E5C899D7F69D9385830</td><td>master</td><td>NULL</td><td>NO   </td><td>no     </td></tr><tr><td>##MS_SQLReplicationSigningCertificate##</td><td>0x010600000000000901000000C971B5A30B4C1D9491870627D8DD506DEF9E3149</td><td>master</td><td>NULL</td><td>NO   </td><td>no     </td></tr><tr><td>##MS_SQLResourceSigningCertificate##</td><td>0x010600000000000901000000296A8BE7879F5A145027EAD036D9EE115A4B723E</td><td>master</td><td>NULL</td><td>NO   </td><td>no     </td></tr><tr><td>BUILTIN\\Administrators</td><td>0x01020000000000052000000020020000</td><td>master</td><td>us_english</td><td>NO   </td><td>no     </td></tr><tr><td>NT AUTHORITY\\NETWORK SERVICE</td><td>0x010100000000000514000000</td><td>master</td><td>us_english</td><td>NO   </td><td>no     </td></tr><tr><td>NT AUTHORITY\\SYSTEM</td><td>0x010100000000000512000000</td><td>master</td><td>us_english</td><td>NO   </td><td>no     </td></tr><tr><td>sa</td><td>0x01</td><td>master</td><td>us_english</td><td>yes  </td><td>no     </td></tr><tr><td>tisApp</td><td>0x705674EC976A4F4081159679B6B24917</td><td>master</td><td>us_english</td><td>NO   </td><td>no     </td></tr></table>"
                    }
                },
                {
                    "output_type": "execute_result",
                    "metadata": {},
                    "execution_count": 37,
                    "data": {
                        "application/vnd.dataresource+json": {
                            "schema": {
                                "fields": [
                                    {
                                        "name": "LoginName"
                                    },
                                    {
                                        "name": "DBName"
                                    },
                                    {
                                        "name": "UserName"
                                    },
                                    {
                                        "name": "UserOrAlias"
                                    }
                                ]
                            },
                            "data": [
                                {
                                    "0": "##MS_AgentSigningCertificate##",
                                    "1": "master",
                                    "2": "##MS_AgentSigningCertificate##",
                                    "3": "User    "
                                },
                                {
                                    "0": "##MS_PolicyEventProcessingLogin##",
                                    "1": "master",
                                    "2": "##MS_PolicyEventProcessingLogin##",
                                    "3": "User    "
                                },
                                {
                                    "0": "##MS_PolicyEventProcessingLogin##",
                                    "1": "msdb",
                                    "2": "##MS_PolicyEventProcessingLogin##",
                                    "3": "User    "
                                },
                                {
                                    "0": "##MS_PolicyEventProcessingLogin##",
                                    "1": "msdb",
                                    "2": "PolicyAdministratorRole",
                                    "3": "MemberOf"
                                },
                                {
                                    "0": "##MS_PolicyTsqlExecutionLogin##",
                                    "1": "msdb",
                                    "2": "##MS_PolicyTsqlExecutionLogin##",
                                    "3": "User    "
                                },
                                {
                                    "0": "##MS_PolicyTsqlExecutionLogin##",
                                    "1": "msdb",
                                    "2": "PolicyAdministratorRole",
                                    "3": "MemberOf"
                                },
                                {
                                    "0": "sa",
                                    "1": "dbtis",
                                    "2": "db_owner",
                                    "3": "MemberOf"
                                },
                                {
                                    "0": "sa",
                                    "1": "dbtis",
                                    "2": "dbo",
                                    "3": "User    "
                                },
                                {
                                    "0": "sa",
                                    "1": "master",
                                    "2": "db_owner",
                                    "3": "MemberOf"
                                },
                                {
                                    "0": "sa",
                                    "1": "master",
                                    "2": "dbo",
                                    "3": "User    "
                                },
                                {
                                    "0": "sa",
                                    "1": "model",
                                    "2": "db_owner",
                                    "3": "MemberOf"
                                },
                                {
                                    "0": "sa",
                                    "1": "model",
                                    "2": "dbo",
                                    "3": "User    "
                                },
                                {
                                    "0": "sa",
                                    "1": "msdb",
                                    "2": "db_owner",
                                    "3": "MemberOf"
                                },
                                {
                                    "0": "sa",
                                    "1": "msdb",
                                    "2": "dbo",
                                    "3": "User    "
                                },
                                {
                                    "0": "sa",
                                    "1": "tempdb",
                                    "2": "db_owner",
                                    "3": "MemberOf"
                                },
                                {
                                    "0": "sa",
                                    "1": "tempdb",
                                    "2": "dbo",
                                    "3": "User    "
                                }
                            ]
                        },
                        "text/html": "<table><tr><th>LoginName</th><th>DBName</th><th>UserName</th><th>UserOrAlias</th></tr><tr><td>##MS_AgentSigningCertificate##</td><td>master</td><td>##MS_AgentSigningCertificate##</td><td>User    </td></tr><tr><td>##MS_PolicyEventProcessingLogin##</td><td>master</td><td>##MS_PolicyEventProcessingLogin##</td><td>User    </td></tr><tr><td>##MS_PolicyEventProcessingLogin##</td><td>msdb</td><td>##MS_PolicyEventProcessingLogin##</td><td>User    </td></tr><tr><td>##MS_PolicyEventProcessingLogin##</td><td>msdb</td><td>PolicyAdministratorRole</td><td>MemberOf</td></tr><tr><td>##MS_PolicyTsqlExecutionLogin##</td><td>msdb</td><td>##MS_PolicyTsqlExecutionLogin##</td><td>User    </td></tr><tr><td>##MS_PolicyTsqlExecutionLogin##</td><td>msdb</td><td>PolicyAdministratorRole</td><td>MemberOf</td></tr><tr><td>sa</td><td>dbtis</td><td>db_owner</td><td>MemberOf</td></tr><tr><td>sa</td><td>dbtis</td><td>dbo</td><td>User    </td></tr><tr><td>sa</td><td>master</td><td>db_owner</td><td>MemberOf</td></tr><tr><td>sa</td><td>master</td><td>dbo</td><td>User    </td></tr><tr><td>sa</td><td>model</td><td>db_owner</td><td>MemberOf</td></tr><tr><td>sa</td><td>model</td><td>dbo</td><td>User    </td></tr><tr><td>sa</td><td>msdb</td><td>db_owner</td><td>MemberOf</td></tr><tr><td>sa</td><td>msdb</td><td>dbo</td><td>User    </td></tr><tr><td>sa</td><td>tempdb</td><td>db_owner</td><td>MemberOf</td></tr><tr><td>sa</td><td>tempdb</td><td>dbo</td><td>User    </td></tr></table>"
                    }
                }
            ],
            "execution_count": 37
        },
        {
            "cell_type": "code",
            "source": [
                "EXEC sp_helpntgroup"
            ],
            "metadata": {
                "azdata_cell_guid": "71014206-cf50-45be-977b-4f72a7905fe9"
            },
            "outputs": [
                {
                    "output_type": "display_data",
                    "data": {
                        "text/html": "(0 rows affected)"
                    },
                    "metadata": {}
                },
                {
                    "output_type": "display_data",
                    "data": {
                        "text/html": "Total execution time: 00:00:00.003"
                    },
                    "metadata": {}
                },
                {
                    "output_type": "execute_result",
                    "metadata": {},
                    "execution_count": 38,
                    "data": {
                        "application/vnd.dataresource+json": {
                            "schema": {
                                "fields": [
                                    {
                                        "name": "NTGroupName"
                                    },
                                    {
                                        "name": "NtGroupId"
                                    },
                                    {
                                        "name": "SID"
                                    },
                                    {
                                        "name": "HasDbAccess"
                                    }
                                ]
                            },
                            "data": []
                        },
                        "text/html": "<table><tr><th>NTGroupName</th><th>NtGroupId</th><th>SID</th><th>HasDbAccess</th></tr></table>"
                    }
                }
            ],
            "execution_count": 38
        },
        {
            "cell_type": "code",
            "source": [
                "EXEC sp_helpuser"
            ],
            "metadata": {
                "azdata_cell_guid": "68ccd5f1-49a1-4171-a493-928dd0bcafbf"
            },
            "outputs": [
                {
                    "output_type": "display_data",
                    "data": {
                        "text/html": "Commands completed successfully."
                    },
                    "metadata": {}
                },
                {
                    "output_type": "display_data",
                    "data": {
                        "text/html": "Total execution time: 00:00:00.018"
                    },
                    "metadata": {}
                },
                {
                    "output_type": "execute_result",
                    "metadata": {},
                    "execution_count": 39,
                    "data": {
                        "application/vnd.dataresource+json": {
                            "schema": {
                                "fields": [
                                    {
                                        "name": "UserName"
                                    },
                                    {
                                        "name": "RoleName"
                                    },
                                    {
                                        "name": "LoginName"
                                    },
                                    {
                                        "name": "DefDBName"
                                    },
                                    {
                                        "name": "DefSchemaName"
                                    },
                                    {
                                        "name": "UserID"
                                    },
                                    {
                                        "name": "SID"
                                    }
                                ]
                            },
                            "data": [
                                {
                                    "0": "dbo",
                                    "1": "db_owner",
                                    "2": "sa",
                                    "3": "master",
                                    "4": "dbo",
                                    "5": "1         ",
                                    "6": "0x01"
                                },
                                {
                                    "0": "guest",
                                    "1": "public",
                                    "2": "NULL",
                                    "3": "NULL",
                                    "4": "guest",
                                    "5": "2         ",
                                    "6": "0x00"
                                },
                                {
                                    "0": "INFORMATION_SCHEMA",
                                    "1": "public",
                                    "2": "NULL",
                                    "3": "NULL",
                                    "4": "NULL",
                                    "5": "3         ",
                                    "6": "NULL"
                                },
                                {
                                    "0": "sys",
                                    "1": "public",
                                    "2": "NULL",
                                    "3": "NULL",
                                    "4": "NULL",
                                    "5": "4         ",
                                    "6": "NULL"
                                }
                            ]
                        },
                        "text/html": "<table><tr><th>UserName</th><th>RoleName</th><th>LoginName</th><th>DefDBName</th><th>DefSchemaName</th><th>UserID</th><th>SID</th></tr><tr><td>dbo</td><td>db_owner</td><td>sa</td><td>master</td><td>dbo</td><td>1         </td><td>0x01</td></tr><tr><td>guest</td><td>public</td><td>NULL</td><td>NULL</td><td>guest</td><td>2         </td><td>0x00</td></tr><tr><td>INFORMATION_SCHEMA</td><td>public</td><td>NULL</td><td>NULL</td><td>NULL</td><td>3         </td><td>NULL</td></tr><tr><td>sys</td><td>public</td><td>NULL</td><td>NULL</td><td>NULL</td><td>4         </td><td>NULL</td></tr></table>"
                    }
                }
            ],
            "execution_count": 39
        },
        {
            "cell_type": "code",
            "source": [
                "EXEC dbtis.tis.sp_ReadUserById @userID = 2"
            ],
            "metadata": {
                "azdata_cell_guid": "f6d6f693-1d79-405f-aad0-c7e885950792"
            },
            "outputs": [
                {
                    "output_type": "display_data",
                    "data": {
                        "text/html": "(1 row affected)"
                    },
                    "metadata": {}
                },
                {
                    "output_type": "display_data",
                    "data": {
                        "text/html": "Total execution time: 00:00:00.015"
                    },
                    "metadata": {}
                },
                {
                    "output_type": "execute_result",
                    "metadata": {},
                    "execution_count": 40,
                    "data": {
                        "application/vnd.dataresource+json": {
                            "schema": {
                                "fields": [
                                    {
                                        "name": "ID"
                                    },
                                    {
                                        "name": "FirstName"
                                    },
                                    {
                                        "name": "LastName"
                                    },
                                    {
                                        "name": "Manager"
                                    },
                                    {
                                        "name": "Logon"
                                    },
                                    {
                                        "name": "Password"
                                    },
                                    {
                                        "name": "Salt"
                                    },
                                    {
                                        "name": "Department"
                                    },
                                    {
                                        "name": "IsManager"
                                    },
                                    {
                                        "name": "IsActive"
                                    },
                                    {
                                        "name": "DateChanged"
                                    }
                                ]
                            },
                            "data": [
                                {
                                    "0": "2",
                                    "1": "Mary",
                                    "2": "Warpy",
                                    "3": "1",
                                    "4": "warpymx",
                                    "5": "ßHpžkÊY\u0018\"|\u000bâÊ©g˜j\rÊÕ½–8žP'%Üý<Ê‹{iC\u0017\u0018šqdEY…B[aŒ’!µƒToÖÍÈ\u0014GR†Ø©Æ",
                                    "6": "00d41382-62e2-4e30-aa9e-3ad286045027",
                                    "7": "1",
                                    "8": "1",
                                    "9": "1",
                                    "10": "2018-12-15 00:00:00.000"
                                }
                            ]
                        },
                        "text/html": "<table><tr><th>ID</th><th>FirstName</th><th>LastName</th><th>Manager</th><th>Logon</th><th>Password</th><th>Salt</th><th>Department</th><th>IsManager</th><th>IsActive</th><th>DateChanged</th></tr><tr><td>2</td><td>Mary</td><td>Warpy</td><td>1</td><td>warpymx</td><td>ßHpžkÊY\u0018&quot;|\u000bâÊ©g˜j\rÊÕ½–8žP'%Üý&lt;Ê‹{iC\u0017\u0018šqdEY…B[aŒ’!µƒToÖÍÈ\u0014GR†Ø©Æ</td><td>00d41382-62e2-4e30-aa9e-3ad286045027</td><td>1</td><td>1</td><td>1</td><td>2018-12-15 00:00:00.000</td></tr></table>"
                    }
                }
            ],
            "execution_count": 40
        }
    ]
}